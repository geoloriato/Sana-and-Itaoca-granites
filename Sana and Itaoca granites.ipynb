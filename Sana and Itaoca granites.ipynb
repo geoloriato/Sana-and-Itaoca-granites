{
 "cells": [
  {
   "cell_type": "markdown",
   "id": "3b3b1faa",
   "metadata": {},
   "source": [
    "## Installation of necessary libraies"
   ]
  },
  {
   "cell_type": "code",
   "execution_count": 1,
   "id": "3cc1e1f9",
   "metadata": {
    "collapsed": true
   },
   "outputs": [
    {
     "name": "stdout",
     "output_type": "stream",
     "text": [
      "Requirement already satisfied: sweetviz in c:\\users\\mauro cesar\\anaconda3\\lib\\site-packages (2.1.4)\n",
      "Requirement already satisfied: matplotlib>=3.1.3 in c:\\users\\mauro cesar\\anaconda3\\lib\\site-packages (from sweetviz) (3.5.1)\n",
      "Requirement already satisfied: pandas!=1.0.0,!=1.0.1,!=1.0.2,>=0.25.3 in c:\\users\\mauro cesar\\anaconda3\\lib\\site-packages (from sweetviz) (1.4.2)\n",
      "Requirement already satisfied: numpy>=1.16.0 in c:\\users\\mauro cesar\\anaconda3\\lib\\site-packages (from sweetviz) (1.21.5)\n",
      "Requirement already satisfied: tqdm>=4.43.0 in c:\\users\\mauro cesar\\anaconda3\\lib\\site-packages (from sweetviz) (4.64.0)\n",
      "Requirement already satisfied: scipy>=1.3.2 in c:\\users\\mauro cesar\\anaconda3\\lib\\site-packages (from sweetviz) (1.7.3)\n",
      "Requirement already satisfied: jinja2>=2.11.1 in c:\\users\\mauro cesar\\anaconda3\\lib\\site-packages (from sweetviz) (2.11.3)\n",
      "Requirement already satisfied: importlib-resources>=1.2.0 in c:\\users\\mauro cesar\\anaconda3\\lib\\site-packages (from sweetviz) (5.9.0)\n",
      "Requirement already satisfied: zipp>=3.1.0 in c:\\users\\mauro cesar\\anaconda3\\lib\\site-packages (from importlib-resources>=1.2.0->sweetviz) (3.7.0)\n",
      "Requirement already satisfied: MarkupSafe>=0.23 in c:\\users\\mauro cesar\\anaconda3\\lib\\site-packages (from jinja2>=2.11.1->sweetviz) (2.0.1)\n",
      "Requirement already satisfied: kiwisolver>=1.0.1 in c:\\users\\mauro cesar\\anaconda3\\lib\\site-packages (from matplotlib>=3.1.3->sweetviz) (1.3.2)\n",
      "Requirement already satisfied: pillow>=6.2.0 in c:\\users\\mauro cesar\\anaconda3\\lib\\site-packages (from matplotlib>=3.1.3->sweetviz) (9.0.1)\n",
      "Requirement already satisfied: packaging>=20.0 in c:\\users\\mauro cesar\\anaconda3\\lib\\site-packages (from matplotlib>=3.1.3->sweetviz) (20.9)\n",
      "Requirement already satisfied: fonttools>=4.22.0 in c:\\users\\mauro cesar\\anaconda3\\lib\\site-packages (from matplotlib>=3.1.3->sweetviz) (4.25.0)\n",
      "Requirement already satisfied: pyparsing>=2.2.1 in c:\\users\\mauro cesar\\anaconda3\\lib\\site-packages (from matplotlib>=3.1.3->sweetviz) (3.0.4)\n",
      "Requirement already satisfied: python-dateutil>=2.7 in c:\\users\\mauro cesar\\anaconda3\\lib\\site-packages (from matplotlib>=3.1.3->sweetviz) (2.8.2)\n",
      "Requirement already satisfied: cycler>=0.10 in c:\\users\\mauro cesar\\anaconda3\\lib\\site-packages (from matplotlib>=3.1.3->sweetviz) (0.11.0)\n",
      "Requirement already satisfied: pytz>=2020.1 in c:\\users\\mauro cesar\\anaconda3\\lib\\site-packages (from pandas!=1.0.0,!=1.0.1,!=1.0.2,>=0.25.3->sweetviz) (2021.3)\n",
      "Requirement already satisfied: six>=1.5 in c:\\users\\mauro cesar\\anaconda3\\lib\\site-packages (from python-dateutil>=2.7->matplotlib>=3.1.3->sweetviz) (1.16.0)\n",
      "Requirement already satisfied: colorama in c:\\users\\mauro cesar\\anaconda3\\lib\\site-packages (from tqdm>=4.43.0->sweetviz) (0.4.4)\n"
     ]
    }
   ],
   "source": [
    "!pip install sweetviz"
   ]
  },
  {
   "cell_type": "markdown",
   "id": "8d17b43e",
   "metadata": {},
   "source": [
    "## Importing used libraries"
   ]
  },
  {
   "cell_type": "code",
   "execution_count": 1,
   "id": "a3d1ce43",
   "metadata": {},
   "outputs": [],
   "source": [
    "import pandas as pd\n",
    "\n",
    "import numpy as np\n",
    "from sklearn.manifold import TSNE\n",
    "from sklearn.decomposition import PCA\n",
    "import matplotlib.pyplot as plt\n",
    "import pickle\n",
    "import numpy as np\n",
    "\n",
    "import requests\n",
    "from zipfile import ZipFile\n",
    "import os\n",
    "import tensorflow as tf\n",
    "from PIL import Image\n",
    "import random\n",
    " \n",
    "from tensorboard.plugins import projector\n",
    "\n",
    "import plotly.express as px\n",
    "import matplotlib.pyplot as plt\n",
    "import seaborn as sns\n",
    "\n",
    "from sklearn.manifold import TSNE\n",
    "from sklearn.decomposition import PCA\n",
    "from sklearn.preprocessing import StandardScaler\n",
    "from sklearn import preprocessing\n",
    "from sklearn.preprocessing import LabelEncoder\n",
    "from sklearn.model_selection import train_test_split\n",
    "from sklearn.feature_selection import SelectKBest\n",
    "from sklearn.feature_selection import f_classif, mutual_info_classif\n",
    "from sklearn.svm import SVC\n",
    "from sklearn.metrics import accuracy_score\n",
    "from sklearn.metrics import confusion_matrix\n",
    "from sklearn.metrics import classification_report\n",
    "from sklearn.metrics import roc_curve\n",
    "from sklearn.metrics import roc_auc_score\n",
    "from sklearn.ensemble import RandomForestClassifier"
   ]
  },
  {
   "cell_type": "markdown",
   "id": "ea42c87c",
   "metadata": {},
   "source": [
    "# Data base"
   ]
  },
  {
   "cell_type": "code",
   "execution_count": 8,
   "id": "78c6c112",
   "metadata": {},
   "outputs": [],
   "source": [
    "# Load the database\n",
    "df = pd.read_excel('Supplementary material A.xlsx')"
   ]
  },
  {
   "cell_type": "code",
   "execution_count": 9,
   "id": "688517ab",
   "metadata": {},
   "outputs": [
    {
     "data": {
      "text/html": [
       "<div>\n",
       "<style scoped>\n",
       "    .dataframe tbody tr th:only-of-type {\n",
       "        vertical-align: middle;\n",
       "    }\n",
       "\n",
       "    .dataframe tbody tr th {\n",
       "        vertical-align: top;\n",
       "    }\n",
       "\n",
       "    .dataframe thead th {\n",
       "        text-align: right;\n",
       "    }\n",
       "</style>\n",
       "<table border=\"1\" class=\"dataframe\">\n",
       "  <thead>\n",
       "    <tr style=\"text-align: right;\">\n",
       "      <th></th>\n",
       "      <th>Sample</th>\n",
       "      <th>Unit</th>\n",
       "      <th>Reference</th>\n",
       "      <th>SiO2</th>\n",
       "      <th>TiO2</th>\n",
       "      <th>Al2O3</th>\n",
       "      <th>Fe2O3</th>\n",
       "      <th>MnO</th>\n",
       "      <th>MgO</th>\n",
       "      <th>CaO</th>\n",
       "      <th>...</th>\n",
       "      <th>Sm</th>\n",
       "      <th>Eu</th>\n",
       "      <th>Gd</th>\n",
       "      <th>Tb</th>\n",
       "      <th>Dy</th>\n",
       "      <th>Ho</th>\n",
       "      <th>Er</th>\n",
       "      <th>Tm</th>\n",
       "      <th>Yb</th>\n",
       "      <th>Lu</th>\n",
       "    </tr>\n",
       "  </thead>\n",
       "  <tbody>\n",
       "    <tr>\n",
       "      <th>0</th>\n",
       "      <td>LAC-12A</td>\n",
       "      <td>Sana</td>\n",
       "      <td>Valeriano et al. (2016)</td>\n",
       "      <td>71.82</td>\n",
       "      <td>0.447</td>\n",
       "      <td>14.26</td>\n",
       "      <td>2.24</td>\n",
       "      <td>0.020</td>\n",
       "      <td>0.44</td>\n",
       "      <td>1.35</td>\n",
       "      <td>...</td>\n",
       "      <td>11.1</td>\n",
       "      <td>0.94</td>\n",
       "      <td>6.1</td>\n",
       "      <td>0.6</td>\n",
       "      <td>2.9</td>\n",
       "      <td>0.5</td>\n",
       "      <td>1.1</td>\n",
       "      <td>0.13</td>\n",
       "      <td>0.8</td>\n",
       "      <td>0.11</td>\n",
       "    </tr>\n",
       "    <tr>\n",
       "      <th>1</th>\n",
       "      <td>LAC-13A</td>\n",
       "      <td>Sana</td>\n",
       "      <td>Valeriano et al. (2016)</td>\n",
       "      <td>70.01</td>\n",
       "      <td>0.702</td>\n",
       "      <td>14.37</td>\n",
       "      <td>3.47</td>\n",
       "      <td>0.044</td>\n",
       "      <td>0.67</td>\n",
       "      <td>1.43</td>\n",
       "      <td>...</td>\n",
       "      <td>22.7</td>\n",
       "      <td>1.93</td>\n",
       "      <td>13.0</td>\n",
       "      <td>1.4</td>\n",
       "      <td>6.8</td>\n",
       "      <td>1.2</td>\n",
       "      <td>2.8</td>\n",
       "      <td>0.36</td>\n",
       "      <td>2.1</td>\n",
       "      <td>0.31</td>\n",
       "    </tr>\n",
       "    <tr>\n",
       "      <th>2</th>\n",
       "      <td>LAC-14</td>\n",
       "      <td>Sana</td>\n",
       "      <td>Valeriano et al. (2016)</td>\n",
       "      <td>69.59</td>\n",
       "      <td>0.656</td>\n",
       "      <td>14.06</td>\n",
       "      <td>3.44</td>\n",
       "      <td>0.060</td>\n",
       "      <td>0.66</td>\n",
       "      <td>1.73</td>\n",
       "      <td>...</td>\n",
       "      <td>19.1</td>\n",
       "      <td>1.78</td>\n",
       "      <td>9.8</td>\n",
       "      <td>0.8</td>\n",
       "      <td>3.5</td>\n",
       "      <td>0.5</td>\n",
       "      <td>1.2</td>\n",
       "      <td>0.14</td>\n",
       "      <td>0.8</td>\n",
       "      <td>0.11</td>\n",
       "    </tr>\n",
       "    <tr>\n",
       "      <th>3</th>\n",
       "      <td>LAC-16</td>\n",
       "      <td>Sana</td>\n",
       "      <td>Valeriano et al. (2016)</td>\n",
       "      <td>68.12</td>\n",
       "      <td>0.750</td>\n",
       "      <td>13.87</td>\n",
       "      <td>3.63</td>\n",
       "      <td>0.053</td>\n",
       "      <td>0.68</td>\n",
       "      <td>1.82</td>\n",
       "      <td>...</td>\n",
       "      <td>26.7</td>\n",
       "      <td>2.94</td>\n",
       "      <td>16.2</td>\n",
       "      <td>1.9</td>\n",
       "      <td>9.3</td>\n",
       "      <td>1.5</td>\n",
       "      <td>4.2</td>\n",
       "      <td>0.60</td>\n",
       "      <td>3.8</td>\n",
       "      <td>0.57</td>\n",
       "    </tr>\n",
       "    <tr>\n",
       "      <th>4</th>\n",
       "      <td>LAC-18A</td>\n",
       "      <td>Sana</td>\n",
       "      <td>Valeriano et al. (2016)</td>\n",
       "      <td>72.63</td>\n",
       "      <td>0.347</td>\n",
       "      <td>13.90</td>\n",
       "      <td>1.71</td>\n",
       "      <td>0.023</td>\n",
       "      <td>0.33</td>\n",
       "      <td>0.91</td>\n",
       "      <td>...</td>\n",
       "      <td>9.6</td>\n",
       "      <td>0.67</td>\n",
       "      <td>5.2</td>\n",
       "      <td>0.6</td>\n",
       "      <td>2.3</td>\n",
       "      <td>0.3</td>\n",
       "      <td>0.8</td>\n",
       "      <td>0.10</td>\n",
       "      <td>0.6</td>\n",
       "      <td>0.08</td>\n",
       "    </tr>\n",
       "    <tr>\n",
       "      <th>5</th>\n",
       "      <td>LAC-18B</td>\n",
       "      <td>Sana</td>\n",
       "      <td>Valeriano et al. (2016)</td>\n",
       "      <td>73.53</td>\n",
       "      <td>0.346</td>\n",
       "      <td>14.26</td>\n",
       "      <td>1.71</td>\n",
       "      <td>0.022</td>\n",
       "      <td>0.34</td>\n",
       "      <td>0.99</td>\n",
       "      <td>...</td>\n",
       "      <td>9.2</td>\n",
       "      <td>0.66</td>\n",
       "      <td>5.2</td>\n",
       "      <td>0.5</td>\n",
       "      <td>2.3</td>\n",
       "      <td>0.3</td>\n",
       "      <td>0.8</td>\n",
       "      <td>0.10</td>\n",
       "      <td>0.6</td>\n",
       "      <td>0.08</td>\n",
       "    </tr>\n",
       "    <tr>\n",
       "      <th>6</th>\n",
       "      <td>LAC-19A</td>\n",
       "      <td>Sana</td>\n",
       "      <td>Valeriano et al. (2016)</td>\n",
       "      <td>71.73</td>\n",
       "      <td>0.458</td>\n",
       "      <td>13.77</td>\n",
       "      <td>2.46</td>\n",
       "      <td>0.031</td>\n",
       "      <td>0.52</td>\n",
       "      <td>1.46</td>\n",
       "      <td>...</td>\n",
       "      <td>13.2</td>\n",
       "      <td>1.28</td>\n",
       "      <td>7.6</td>\n",
       "      <td>0.7</td>\n",
       "      <td>3.1</td>\n",
       "      <td>0.5</td>\n",
       "      <td>1.1</td>\n",
       "      <td>0.12</td>\n",
       "      <td>0.7</td>\n",
       "      <td>0.10</td>\n",
       "    </tr>\n",
       "    <tr>\n",
       "      <th>7</th>\n",
       "      <td>LAC-19B</td>\n",
       "      <td>Sana</td>\n",
       "      <td>Valeriano et al. (2016)</td>\n",
       "      <td>72.83</td>\n",
       "      <td>0.410</td>\n",
       "      <td>13.54</td>\n",
       "      <td>2.11</td>\n",
       "      <td>0.025</td>\n",
       "      <td>0.42</td>\n",
       "      <td>0.99</td>\n",
       "      <td>...</td>\n",
       "      <td>13.2</td>\n",
       "      <td>0.78</td>\n",
       "      <td>7.4</td>\n",
       "      <td>0.8</td>\n",
       "      <td>3.5</td>\n",
       "      <td>0.5</td>\n",
       "      <td>1.1</td>\n",
       "      <td>0.15</td>\n",
       "      <td>1.0</td>\n",
       "      <td>0.14</td>\n",
       "    </tr>\n",
       "    <tr>\n",
       "      <th>8</th>\n",
       "      <td>CASA-04</td>\n",
       "      <td>Sana</td>\n",
       "      <td>Potratz et al., 2021</td>\n",
       "      <td>73.84</td>\n",
       "      <td>0.382</td>\n",
       "      <td>13.45</td>\n",
       "      <td>1.71</td>\n",
       "      <td>0.017</td>\n",
       "      <td>0.34</td>\n",
       "      <td>1.16</td>\n",
       "      <td>...</td>\n",
       "      <td>13.3</td>\n",
       "      <td>0.99</td>\n",
       "      <td>6.6</td>\n",
       "      <td>0.8</td>\n",
       "      <td>3.6</td>\n",
       "      <td>0.5</td>\n",
       "      <td>1.1</td>\n",
       "      <td>0.12</td>\n",
       "      <td>0.6</td>\n",
       "      <td>0.07</td>\n",
       "    </tr>\n",
       "    <tr>\n",
       "      <th>9</th>\n",
       "      <td>CASA-06A</td>\n",
       "      <td>Sana</td>\n",
       "      <td>Potratz et al., 2021</td>\n",
       "      <td>67.60</td>\n",
       "      <td>0.744</td>\n",
       "      <td>13.86</td>\n",
       "      <td>3.55</td>\n",
       "      <td>0.047</td>\n",
       "      <td>0.68</td>\n",
       "      <td>1.86</td>\n",
       "      <td>...</td>\n",
       "      <td>21.8</td>\n",
       "      <td>2.36</td>\n",
       "      <td>12.5</td>\n",
       "      <td>1.5</td>\n",
       "      <td>7.2</td>\n",
       "      <td>1.3</td>\n",
       "      <td>3.5</td>\n",
       "      <td>0.49</td>\n",
       "      <td>2.7</td>\n",
       "      <td>0.34</td>\n",
       "    </tr>\n",
       "    <tr>\n",
       "      <th>10</th>\n",
       "      <td>CASA-06B</td>\n",
       "      <td>Sana</td>\n",
       "      <td>Potratz et al., 2021</td>\n",
       "      <td>68.21</td>\n",
       "      <td>0.898</td>\n",
       "      <td>14.61</td>\n",
       "      <td>3.69</td>\n",
       "      <td>0.045</td>\n",
       "      <td>0.80</td>\n",
       "      <td>1.98</td>\n",
       "      <td>...</td>\n",
       "      <td>17.6</td>\n",
       "      <td>1.81</td>\n",
       "      <td>9.1</td>\n",
       "      <td>0.9</td>\n",
       "      <td>4.2</td>\n",
       "      <td>0.7</td>\n",
       "      <td>1.8</td>\n",
       "      <td>0.21</td>\n",
       "      <td>1.1</td>\n",
       "      <td>0.14</td>\n",
       "    </tr>\n",
       "    <tr>\n",
       "      <th>11</th>\n",
       "      <td>CASA-08A</td>\n",
       "      <td>Sana</td>\n",
       "      <td>Potratz et al., 2021</td>\n",
       "      <td>70.55</td>\n",
       "      <td>0.498</td>\n",
       "      <td>13.85</td>\n",
       "      <td>2.62</td>\n",
       "      <td>0.038</td>\n",
       "      <td>0.49</td>\n",
       "      <td>1.43</td>\n",
       "      <td>...</td>\n",
       "      <td>15.2</td>\n",
       "      <td>1.13</td>\n",
       "      <td>7.9</td>\n",
       "      <td>0.9</td>\n",
       "      <td>4.1</td>\n",
       "      <td>0.7</td>\n",
       "      <td>2.0</td>\n",
       "      <td>0.25</td>\n",
       "      <td>1.4</td>\n",
       "      <td>0.18</td>\n",
       "    </tr>\n",
       "    <tr>\n",
       "      <th>12</th>\n",
       "      <td>CASA-08B</td>\n",
       "      <td>Sana</td>\n",
       "      <td>Potratz et al., 2021</td>\n",
       "      <td>70.60</td>\n",
       "      <td>0.640</td>\n",
       "      <td>13.99</td>\n",
       "      <td>3.17</td>\n",
       "      <td>0.048</td>\n",
       "      <td>0.59</td>\n",
       "      <td>1.48</td>\n",
       "      <td>...</td>\n",
       "      <td>16.6</td>\n",
       "      <td>1.21</td>\n",
       "      <td>8.4</td>\n",
       "      <td>0.9</td>\n",
       "      <td>4.2</td>\n",
       "      <td>0.7</td>\n",
       "      <td>2.0</td>\n",
       "      <td>0.27</td>\n",
       "      <td>1.5</td>\n",
       "      <td>0.18</td>\n",
       "    </tr>\n",
       "    <tr>\n",
       "      <th>13</th>\n",
       "      <td>CASA-09B</td>\n",
       "      <td>Sana</td>\n",
       "      <td>Potratz et al., 2021</td>\n",
       "      <td>68.77</td>\n",
       "      <td>0.730</td>\n",
       "      <td>13.99</td>\n",
       "      <td>4.27</td>\n",
       "      <td>0.048</td>\n",
       "      <td>0.66</td>\n",
       "      <td>1.83</td>\n",
       "      <td>...</td>\n",
       "      <td>25.3</td>\n",
       "      <td>2.77</td>\n",
       "      <td>15.1</td>\n",
       "      <td>1.9</td>\n",
       "      <td>10.1</td>\n",
       "      <td>1.9</td>\n",
       "      <td>5.3</td>\n",
       "      <td>0.74</td>\n",
       "      <td>4.2</td>\n",
       "      <td>0.53</td>\n",
       "    </tr>\n",
       "    <tr>\n",
       "      <th>14</th>\n",
       "      <td>CASA-13</td>\n",
       "      <td>Sana</td>\n",
       "      <td>Potratz et al., 2021</td>\n",
       "      <td>73.31</td>\n",
       "      <td>0.317</td>\n",
       "      <td>13.71</td>\n",
       "      <td>1.50</td>\n",
       "      <td>0.038</td>\n",
       "      <td>0.22</td>\n",
       "      <td>0.60</td>\n",
       "      <td>...</td>\n",
       "      <td>9.7</td>\n",
       "      <td>0.83</td>\n",
       "      <td>4.4</td>\n",
       "      <td>0.5</td>\n",
       "      <td>2.0</td>\n",
       "      <td>0.3</td>\n",
       "      <td>0.7</td>\n",
       "      <td>0.08</td>\n",
       "      <td>0.4</td>\n",
       "      <td>0.05</td>\n",
       "    </tr>\n",
       "    <tr>\n",
       "      <th>15</th>\n",
       "      <td>CASA-14A</td>\n",
       "      <td>Sana</td>\n",
       "      <td>Potratz et al., 2021</td>\n",
       "      <td>73.77</td>\n",
       "      <td>0.341</td>\n",
       "      <td>13.90</td>\n",
       "      <td>2.04</td>\n",
       "      <td>0.021</td>\n",
       "      <td>0.36</td>\n",
       "      <td>0.59</td>\n",
       "      <td>...</td>\n",
       "      <td>11.0</td>\n",
       "      <td>0.58</td>\n",
       "      <td>7.6</td>\n",
       "      <td>0.9</td>\n",
       "      <td>3.9</td>\n",
       "      <td>0.6</td>\n",
       "      <td>1.3</td>\n",
       "      <td>0.14</td>\n",
       "      <td>0.8</td>\n",
       "      <td>0.09</td>\n",
       "    </tr>\n",
       "    <tr>\n",
       "      <th>16</th>\n",
       "      <td>CASA-17</td>\n",
       "      <td>Sana</td>\n",
       "      <td>Potratz et al., 2021</td>\n",
       "      <td>71.11</td>\n",
       "      <td>0.398</td>\n",
       "      <td>13.52</td>\n",
       "      <td>2.01</td>\n",
       "      <td>0.023</td>\n",
       "      <td>0.38</td>\n",
       "      <td>1.06</td>\n",
       "      <td>...</td>\n",
       "      <td>12.2</td>\n",
       "      <td>0.89</td>\n",
       "      <td>5.8</td>\n",
       "      <td>0.6</td>\n",
       "      <td>2.7</td>\n",
       "      <td>0.4</td>\n",
       "      <td>1.0</td>\n",
       "      <td>0.13</td>\n",
       "      <td>0.7</td>\n",
       "      <td>0.08</td>\n",
       "    </tr>\n",
       "    <tr>\n",
       "      <th>17</th>\n",
       "      <td>CASA-17B</td>\n",
       "      <td>Sana</td>\n",
       "      <td>Potratz et al., 2021</td>\n",
       "      <td>71.17</td>\n",
       "      <td>0.341</td>\n",
       "      <td>13.83</td>\n",
       "      <td>1.81</td>\n",
       "      <td>0.021</td>\n",
       "      <td>0.35</td>\n",
       "      <td>1.09</td>\n",
       "      <td>...</td>\n",
       "      <td>8.8</td>\n",
       "      <td>0.80</td>\n",
       "      <td>4.3</td>\n",
       "      <td>0.5</td>\n",
       "      <td>2.2</td>\n",
       "      <td>0.4</td>\n",
       "      <td>0.9</td>\n",
       "      <td>0.11</td>\n",
       "      <td>0.6</td>\n",
       "      <td>0.08</td>\n",
       "    </tr>\n",
       "    <tr>\n",
       "      <th>18</th>\n",
       "      <td>CASA-18</td>\n",
       "      <td>Sana</td>\n",
       "      <td>Potratz et al., 2021</td>\n",
       "      <td>72.84</td>\n",
       "      <td>0.354</td>\n",
       "      <td>14.32</td>\n",
       "      <td>1.79</td>\n",
       "      <td>0.014</td>\n",
       "      <td>0.34</td>\n",
       "      <td>1.03</td>\n",
       "      <td>...</td>\n",
       "      <td>16.4</td>\n",
       "      <td>1.29</td>\n",
       "      <td>9.9</td>\n",
       "      <td>1.0</td>\n",
       "      <td>4.1</td>\n",
       "      <td>0.6</td>\n",
       "      <td>1.5</td>\n",
       "      <td>0.17</td>\n",
       "      <td>0.9</td>\n",
       "      <td>0.11</td>\n",
       "    </tr>\n",
       "    <tr>\n",
       "      <th>19</th>\n",
       "      <td>CASA-19</td>\n",
       "      <td>Sana</td>\n",
       "      <td>Potratz et al., 2021</td>\n",
       "      <td>74.75</td>\n",
       "      <td>0.334</td>\n",
       "      <td>13.46</td>\n",
       "      <td>1.94</td>\n",
       "      <td>0.019</td>\n",
       "      <td>0.34</td>\n",
       "      <td>0.68</td>\n",
       "      <td>...</td>\n",
       "      <td>8.8</td>\n",
       "      <td>0.71</td>\n",
       "      <td>5.1</td>\n",
       "      <td>0.6</td>\n",
       "      <td>2.6</td>\n",
       "      <td>0.4</td>\n",
       "      <td>1.0</td>\n",
       "      <td>0.13</td>\n",
       "      <td>0.7</td>\n",
       "      <td>0.09</td>\n",
       "    </tr>\n",
       "    <tr>\n",
       "      <th>20</th>\n",
       "      <td>CASA-20</td>\n",
       "      <td>Sana</td>\n",
       "      <td>Potratz et al., 2021</td>\n",
       "      <td>69.43</td>\n",
       "      <td>0.542</td>\n",
       "      <td>13.98</td>\n",
       "      <td>2.82</td>\n",
       "      <td>0.045</td>\n",
       "      <td>0.58</td>\n",
       "      <td>1.64</td>\n",
       "      <td>...</td>\n",
       "      <td>15.6</td>\n",
       "      <td>1.55</td>\n",
       "      <td>7.6</td>\n",
       "      <td>0.7</td>\n",
       "      <td>2.8</td>\n",
       "      <td>0.4</td>\n",
       "      <td>1.0</td>\n",
       "      <td>0.13</td>\n",
       "      <td>0.7</td>\n",
       "      <td>0.09</td>\n",
       "    </tr>\n",
       "    <tr>\n",
       "      <th>21</th>\n",
       "      <td>CASA-21</td>\n",
       "      <td>Sana</td>\n",
       "      <td>Potratz et al., 2021</td>\n",
       "      <td>70.52</td>\n",
       "      <td>0.481</td>\n",
       "      <td>13.85</td>\n",
       "      <td>2.36</td>\n",
       "      <td>0.042</td>\n",
       "      <td>0.46</td>\n",
       "      <td>1.41</td>\n",
       "      <td>...</td>\n",
       "      <td>13.6</td>\n",
       "      <td>1.63</td>\n",
       "      <td>6.2</td>\n",
       "      <td>0.6</td>\n",
       "      <td>2.8</td>\n",
       "      <td>0.4</td>\n",
       "      <td>1.0</td>\n",
       "      <td>0.13</td>\n",
       "      <td>0.7</td>\n",
       "      <td>0.09</td>\n",
       "    </tr>\n",
       "    <tr>\n",
       "      <th>22</th>\n",
       "      <td>LAC-02A</td>\n",
       "      <td>Itaoca</td>\n",
       "      <td>Potratz e Valeriano (2017)</td>\n",
       "      <td>70.66</td>\n",
       "      <td>0.690</td>\n",
       "      <td>13.77</td>\n",
       "      <td>3.55</td>\n",
       "      <td>0.048</td>\n",
       "      <td>0.60</td>\n",
       "      <td>1.84</td>\n",
       "      <td>...</td>\n",
       "      <td>18.9</td>\n",
       "      <td>1.43</td>\n",
       "      <td>10.5</td>\n",
       "      <td>1.1</td>\n",
       "      <td>4.6</td>\n",
       "      <td>0.7</td>\n",
       "      <td>1.5</td>\n",
       "      <td>0.18</td>\n",
       "      <td>0.9</td>\n",
       "      <td>0.13</td>\n",
       "    </tr>\n",
       "    <tr>\n",
       "      <th>23</th>\n",
       "      <td>LAC-03A</td>\n",
       "      <td>Itaoca</td>\n",
       "      <td>Potratz e Valeriano (2017)</td>\n",
       "      <td>70.16</td>\n",
       "      <td>0.531</td>\n",
       "      <td>14.45</td>\n",
       "      <td>2.92</td>\n",
       "      <td>0.041</td>\n",
       "      <td>0.43</td>\n",
       "      <td>1.78</td>\n",
       "      <td>...</td>\n",
       "      <td>14.7</td>\n",
       "      <td>1.21</td>\n",
       "      <td>8.3</td>\n",
       "      <td>0.8</td>\n",
       "      <td>3.6</td>\n",
       "      <td>0.5</td>\n",
       "      <td>1.1</td>\n",
       "      <td>0.14</td>\n",
       "      <td>0.8</td>\n",
       "      <td>0.11</td>\n",
       "    </tr>\n",
       "    <tr>\n",
       "      <th>24</th>\n",
       "      <td>LAC-03B</td>\n",
       "      <td>Itaoca</td>\n",
       "      <td>Potratz e Valeriano (2017)</td>\n",
       "      <td>70.08</td>\n",
       "      <td>0.576</td>\n",
       "      <td>14.23</td>\n",
       "      <td>3.31</td>\n",
       "      <td>0.045</td>\n",
       "      <td>0.48</td>\n",
       "      <td>1.78</td>\n",
       "      <td>...</td>\n",
       "      <td>18.8</td>\n",
       "      <td>1.21</td>\n",
       "      <td>10.5</td>\n",
       "      <td>1.1</td>\n",
       "      <td>4.3</td>\n",
       "      <td>0.6</td>\n",
       "      <td>1.3</td>\n",
       "      <td>0.15</td>\n",
       "      <td>0.8</td>\n",
       "      <td>0.12</td>\n",
       "    </tr>\n",
       "    <tr>\n",
       "      <th>25</th>\n",
       "      <td>LAC-07</td>\n",
       "      <td>Itaoca</td>\n",
       "      <td>Potratz e Valeriano (2017)</td>\n",
       "      <td>72.37</td>\n",
       "      <td>0.488</td>\n",
       "      <td>13.25</td>\n",
       "      <td>2.49</td>\n",
       "      <td>0.034</td>\n",
       "      <td>0.44</td>\n",
       "      <td>2.16</td>\n",
       "      <td>...</td>\n",
       "      <td>10.0</td>\n",
       "      <td>1.25</td>\n",
       "      <td>5.7</td>\n",
       "      <td>0.6</td>\n",
       "      <td>2.7</td>\n",
       "      <td>0.4</td>\n",
       "      <td>1.0</td>\n",
       "      <td>0.13</td>\n",
       "      <td>0.8</td>\n",
       "      <td>0.12</td>\n",
       "    </tr>\n",
       "    <tr>\n",
       "      <th>26</th>\n",
       "      <td>LAC-08</td>\n",
       "      <td>Itaoca</td>\n",
       "      <td>Potratz e Valeriano (2017)</td>\n",
       "      <td>70.01</td>\n",
       "      <td>0.640</td>\n",
       "      <td>13.86</td>\n",
       "      <td>3.46</td>\n",
       "      <td>0.047</td>\n",
       "      <td>0.62</td>\n",
       "      <td>1.81</td>\n",
       "      <td>...</td>\n",
       "      <td>21.1</td>\n",
       "      <td>1.49</td>\n",
       "      <td>10.9</td>\n",
       "      <td>1.0</td>\n",
       "      <td>3.8</td>\n",
       "      <td>0.5</td>\n",
       "      <td>1.2</td>\n",
       "      <td>0.15</td>\n",
       "      <td>0.9</td>\n",
       "      <td>0.12</td>\n",
       "    </tr>\n",
       "    <tr>\n",
       "      <th>27</th>\n",
       "      <td>LAC-09A</td>\n",
       "      <td>Itaoca</td>\n",
       "      <td>Potratz e Valeriano (2017)</td>\n",
       "      <td>70.40</td>\n",
       "      <td>0.600</td>\n",
       "      <td>14.05</td>\n",
       "      <td>3.68</td>\n",
       "      <td>0.049</td>\n",
       "      <td>0.55</td>\n",
       "      <td>1.90</td>\n",
       "      <td>...</td>\n",
       "      <td>15.0</td>\n",
       "      <td>1.26</td>\n",
       "      <td>8.8</td>\n",
       "      <td>0.9</td>\n",
       "      <td>4.0</td>\n",
       "      <td>0.6</td>\n",
       "      <td>1.4</td>\n",
       "      <td>0.17</td>\n",
       "      <td>1.0</td>\n",
       "      <td>0.15</td>\n",
       "    </tr>\n",
       "    <tr>\n",
       "      <th>28</th>\n",
       "      <td>LAC-10A</td>\n",
       "      <td>Itaoca</td>\n",
       "      <td>Potratz e Valeriano (2017)</td>\n",
       "      <td>68.65</td>\n",
       "      <td>0.674</td>\n",
       "      <td>13.64</td>\n",
       "      <td>3.44</td>\n",
       "      <td>0.050</td>\n",
       "      <td>0.60</td>\n",
       "      <td>3.62</td>\n",
       "      <td>...</td>\n",
       "      <td>18.0</td>\n",
       "      <td>1.39</td>\n",
       "      <td>10.2</td>\n",
       "      <td>1.1</td>\n",
       "      <td>4.8</td>\n",
       "      <td>0.7</td>\n",
       "      <td>1.7</td>\n",
       "      <td>0.22</td>\n",
       "      <td>1.3</td>\n",
       "      <td>0.20</td>\n",
       "    </tr>\n",
       "    <tr>\n",
       "      <th>29</th>\n",
       "      <td>LAC-10B</td>\n",
       "      <td>Itaoca</td>\n",
       "      <td>Potratz e Valeriano (2017)</td>\n",
       "      <td>71.32</td>\n",
       "      <td>0.463</td>\n",
       "      <td>13.97</td>\n",
       "      <td>2.35</td>\n",
       "      <td>0.035</td>\n",
       "      <td>0.41</td>\n",
       "      <td>1.58</td>\n",
       "      <td>...</td>\n",
       "      <td>14.3</td>\n",
       "      <td>1.24</td>\n",
       "      <td>7.4</td>\n",
       "      <td>0.7</td>\n",
       "      <td>2.9</td>\n",
       "      <td>0.4</td>\n",
       "      <td>0.9</td>\n",
       "      <td>0.11</td>\n",
       "      <td>0.7</td>\n",
       "      <td>0.10</td>\n",
       "    </tr>\n",
       "    <tr>\n",
       "      <th>30</th>\n",
       "      <td>LAC-11</td>\n",
       "      <td>Itaoca</td>\n",
       "      <td>Potratz e Valeriano (2017)</td>\n",
       "      <td>67.61</td>\n",
       "      <td>0.946</td>\n",
       "      <td>14.08</td>\n",
       "      <td>3.87</td>\n",
       "      <td>0.068</td>\n",
       "      <td>0.85</td>\n",
       "      <td>2.24</td>\n",
       "      <td>...</td>\n",
       "      <td>21.0</td>\n",
       "      <td>1.45</td>\n",
       "      <td>12.2</td>\n",
       "      <td>1.3</td>\n",
       "      <td>6.3</td>\n",
       "      <td>0.9</td>\n",
       "      <td>2.3</td>\n",
       "      <td>0.30</td>\n",
       "      <td>1.8</td>\n",
       "      <td>0.29</td>\n",
       "    </tr>\n",
       "    <tr>\n",
       "      <th>31</th>\n",
       "      <td>ME-16A</td>\n",
       "      <td>Itaoca</td>\n",
       "      <td>Potratz e Valeriano (2017)</td>\n",
       "      <td>67.78</td>\n",
       "      <td>0.654</td>\n",
       "      <td>14.95</td>\n",
       "      <td>3.51</td>\n",
       "      <td>0.050</td>\n",
       "      <td>0.60</td>\n",
       "      <td>1.90</td>\n",
       "      <td>...</td>\n",
       "      <td>18.5</td>\n",
       "      <td>1.70</td>\n",
       "      <td>8.9</td>\n",
       "      <td>0.9</td>\n",
       "      <td>4.0</td>\n",
       "      <td>0.6</td>\n",
       "      <td>1.6</td>\n",
       "      <td>0.18</td>\n",
       "      <td>0.9</td>\n",
       "      <td>0.12</td>\n",
       "    </tr>\n",
       "    <tr>\n",
       "      <th>32</th>\n",
       "      <td>ME-16B</td>\n",
       "      <td>Itaoca</td>\n",
       "      <td>Potratz e Valeriano (2017)</td>\n",
       "      <td>69.85</td>\n",
       "      <td>0.523</td>\n",
       "      <td>14.05</td>\n",
       "      <td>2.96</td>\n",
       "      <td>0.041</td>\n",
       "      <td>0.45</td>\n",
       "      <td>2.18</td>\n",
       "      <td>...</td>\n",
       "      <td>14.8</td>\n",
       "      <td>1.33</td>\n",
       "      <td>7.9</td>\n",
       "      <td>0.8</td>\n",
       "      <td>3.5</td>\n",
       "      <td>0.5</td>\n",
       "      <td>1.4</td>\n",
       "      <td>0.16</td>\n",
       "      <td>0.9</td>\n",
       "      <td>0.11</td>\n",
       "    </tr>\n",
       "    <tr>\n",
       "      <th>33</th>\n",
       "      <td>ME-17A</td>\n",
       "      <td>Itaoca</td>\n",
       "      <td>Potratz e Valeriano (2017)</td>\n",
       "      <td>67.29</td>\n",
       "      <td>0.860</td>\n",
       "      <td>14.04</td>\n",
       "      <td>4.05</td>\n",
       "      <td>0.059</td>\n",
       "      <td>0.65</td>\n",
       "      <td>1.99</td>\n",
       "      <td>...</td>\n",
       "      <td>14.8</td>\n",
       "      <td>1.36</td>\n",
       "      <td>8.2</td>\n",
       "      <td>1.0</td>\n",
       "      <td>4.6</td>\n",
       "      <td>0.7</td>\n",
       "      <td>1.8</td>\n",
       "      <td>0.21</td>\n",
       "      <td>1.1</td>\n",
       "      <td>0.14</td>\n",
       "    </tr>\n",
       "    <tr>\n",
       "      <th>34</th>\n",
       "      <td>ME-17B</td>\n",
       "      <td>Itaoca</td>\n",
       "      <td>Potratz e Valeriano (2017)</td>\n",
       "      <td>65.83</td>\n",
       "      <td>1.096</td>\n",
       "      <td>14.25</td>\n",
       "      <td>4.17</td>\n",
       "      <td>0.055</td>\n",
       "      <td>1.09</td>\n",
       "      <td>2.56</td>\n",
       "      <td>...</td>\n",
       "      <td>19.9</td>\n",
       "      <td>2.45</td>\n",
       "      <td>12.2</td>\n",
       "      <td>1.5</td>\n",
       "      <td>7.3</td>\n",
       "      <td>1.2</td>\n",
       "      <td>3.2</td>\n",
       "      <td>0.39</td>\n",
       "      <td>2.2</td>\n",
       "      <td>0.32</td>\n",
       "    </tr>\n",
       "    <tr>\n",
       "      <th>35</th>\n",
       "      <td>ME-18</td>\n",
       "      <td>Itaoca</td>\n",
       "      <td>Potratz e Valeriano (2017)</td>\n",
       "      <td>68.06</td>\n",
       "      <td>0.942</td>\n",
       "      <td>14.19</td>\n",
       "      <td>4.24</td>\n",
       "      <td>0.069</td>\n",
       "      <td>0.83</td>\n",
       "      <td>2.01</td>\n",
       "      <td>...</td>\n",
       "      <td>22.8</td>\n",
       "      <td>1.47</td>\n",
       "      <td>12.3</td>\n",
       "      <td>1.6</td>\n",
       "      <td>7.2</td>\n",
       "      <td>1.1</td>\n",
       "      <td>2.6</td>\n",
       "      <td>0.32</td>\n",
       "      <td>1.8</td>\n",
       "      <td>0.25</td>\n",
       "    </tr>\n",
       "    <tr>\n",
       "      <th>36</th>\n",
       "      <td>ME-19</td>\n",
       "      <td>Itaoca</td>\n",
       "      <td>Potratz e Valeriano (2017)</td>\n",
       "      <td>70.00</td>\n",
       "      <td>0.544</td>\n",
       "      <td>14.20</td>\n",
       "      <td>2.93</td>\n",
       "      <td>0.043</td>\n",
       "      <td>0.45</td>\n",
       "      <td>1.47</td>\n",
       "      <td>...</td>\n",
       "      <td>23.3</td>\n",
       "      <td>1.31</td>\n",
       "      <td>10.3</td>\n",
       "      <td>1.0</td>\n",
       "      <td>3.8</td>\n",
       "      <td>0.6</td>\n",
       "      <td>1.4</td>\n",
       "      <td>0.17</td>\n",
       "      <td>0.9</td>\n",
       "      <td>0.13</td>\n",
       "    </tr>\n",
       "    <tr>\n",
       "      <th>37</th>\n",
       "      <td>ME-21</td>\n",
       "      <td>Itaoca</td>\n",
       "      <td>Potratz e Valeriano (2017)</td>\n",
       "      <td>68.62</td>\n",
       "      <td>0.965</td>\n",
       "      <td>14.77</td>\n",
       "      <td>3.81</td>\n",
       "      <td>0.060</td>\n",
       "      <td>0.84</td>\n",
       "      <td>2.55</td>\n",
       "      <td>...</td>\n",
       "      <td>20.9</td>\n",
       "      <td>1.68</td>\n",
       "      <td>10.8</td>\n",
       "      <td>1.4</td>\n",
       "      <td>7.0</td>\n",
       "      <td>1.3</td>\n",
       "      <td>3.4</td>\n",
       "      <td>0.43</td>\n",
       "      <td>2.4</td>\n",
       "      <td>0.31</td>\n",
       "    </tr>\n",
       "  </tbody>\n",
       "</table>\n",
       "<p>38 rows × 50 columns</p>\n",
       "</div>"
      ],
      "text/plain": [
       "      Sample    Unit                   Reference   SiO2   TiO2  Al2O3  Fe2O3  \\\n",
       "0    LAC-12A    Sana     Valeriano et al. (2016)  71.82  0.447  14.26   2.24   \n",
       "1    LAC-13A    Sana     Valeriano et al. (2016)  70.01  0.702  14.37   3.47   \n",
       "2     LAC-14    Sana     Valeriano et al. (2016)  69.59  0.656  14.06   3.44   \n",
       "3     LAC-16    Sana     Valeriano et al. (2016)  68.12  0.750  13.87   3.63   \n",
       "4    LAC-18A    Sana     Valeriano et al. (2016)  72.63  0.347  13.90   1.71   \n",
       "5    LAC-18B    Sana     Valeriano et al. (2016)  73.53  0.346  14.26   1.71   \n",
       "6    LAC-19A    Sana     Valeriano et al. (2016)  71.73  0.458  13.77   2.46   \n",
       "7    LAC-19B    Sana     Valeriano et al. (2016)  72.83  0.410  13.54   2.11   \n",
       "8    CASA-04    Sana        Potratz et al., 2021  73.84  0.382  13.45   1.71   \n",
       "9   CASA-06A    Sana        Potratz et al., 2021  67.60  0.744  13.86   3.55   \n",
       "10  CASA-06B    Sana        Potratz et al., 2021  68.21  0.898  14.61   3.69   \n",
       "11  CASA-08A    Sana        Potratz et al., 2021  70.55  0.498  13.85   2.62   \n",
       "12  CASA-08B    Sana        Potratz et al., 2021  70.60  0.640  13.99   3.17   \n",
       "13  CASA-09B    Sana        Potratz et al., 2021  68.77  0.730  13.99   4.27   \n",
       "14   CASA-13    Sana        Potratz et al., 2021  73.31  0.317  13.71   1.50   \n",
       "15  CASA-14A    Sana        Potratz et al., 2021  73.77  0.341  13.90   2.04   \n",
       "16   CASA-17    Sana        Potratz et al., 2021  71.11  0.398  13.52   2.01   \n",
       "17  CASA-17B    Sana        Potratz et al., 2021  71.17  0.341  13.83   1.81   \n",
       "18   CASA-18    Sana        Potratz et al., 2021  72.84  0.354  14.32   1.79   \n",
       "19   CASA-19    Sana        Potratz et al., 2021  74.75  0.334  13.46   1.94   \n",
       "20   CASA-20    Sana        Potratz et al., 2021  69.43  0.542  13.98   2.82   \n",
       "21   CASA-21    Sana        Potratz et al., 2021  70.52  0.481  13.85   2.36   \n",
       "22   LAC-02A  Itaoca  Potratz e Valeriano (2017)  70.66  0.690  13.77   3.55   \n",
       "23   LAC-03A  Itaoca  Potratz e Valeriano (2017)  70.16  0.531  14.45   2.92   \n",
       "24   LAC-03B  Itaoca  Potratz e Valeriano (2017)  70.08  0.576  14.23   3.31   \n",
       "25    LAC-07  Itaoca  Potratz e Valeriano (2017)  72.37  0.488  13.25   2.49   \n",
       "26    LAC-08  Itaoca  Potratz e Valeriano (2017)  70.01  0.640  13.86   3.46   \n",
       "27   LAC-09A  Itaoca  Potratz e Valeriano (2017)  70.40  0.600  14.05   3.68   \n",
       "28   LAC-10A  Itaoca  Potratz e Valeriano (2017)  68.65  0.674  13.64   3.44   \n",
       "29   LAC-10B  Itaoca  Potratz e Valeriano (2017)  71.32  0.463  13.97   2.35   \n",
       "30    LAC-11  Itaoca  Potratz e Valeriano (2017)  67.61  0.946  14.08   3.87   \n",
       "31    ME-16A  Itaoca  Potratz e Valeriano (2017)  67.78  0.654  14.95   3.51   \n",
       "32    ME-16B  Itaoca  Potratz e Valeriano (2017)  69.85  0.523  14.05   2.96   \n",
       "33    ME-17A  Itaoca  Potratz e Valeriano (2017)  67.29  0.860  14.04   4.05   \n",
       "34    ME-17B  Itaoca  Potratz e Valeriano (2017)  65.83  1.096  14.25   4.17   \n",
       "35     ME-18  Itaoca  Potratz e Valeriano (2017)  68.06  0.942  14.19   4.24   \n",
       "36     ME-19  Itaoca  Potratz e Valeriano (2017)  70.00  0.544  14.20   2.93   \n",
       "37     ME-21  Itaoca  Potratz e Valeriano (2017)  68.62  0.965  14.77   3.81   \n",
       "\n",
       "      MnO   MgO   CaO  ...    Sm    Eu    Gd   Tb    Dy   Ho   Er    Tm   Yb  \\\n",
       "0   0.020  0.44  1.35  ...  11.1  0.94   6.1  0.6   2.9  0.5  1.1  0.13  0.8   \n",
       "1   0.044  0.67  1.43  ...  22.7  1.93  13.0  1.4   6.8  1.2  2.8  0.36  2.1   \n",
       "2   0.060  0.66  1.73  ...  19.1  1.78   9.8  0.8   3.5  0.5  1.2  0.14  0.8   \n",
       "3   0.053  0.68  1.82  ...  26.7  2.94  16.2  1.9   9.3  1.5  4.2  0.60  3.8   \n",
       "4   0.023  0.33  0.91  ...   9.6  0.67   5.2  0.6   2.3  0.3  0.8  0.10  0.6   \n",
       "5   0.022  0.34  0.99  ...   9.2  0.66   5.2  0.5   2.3  0.3  0.8  0.10  0.6   \n",
       "6   0.031  0.52  1.46  ...  13.2  1.28   7.6  0.7   3.1  0.5  1.1  0.12  0.7   \n",
       "7   0.025  0.42  0.99  ...  13.2  0.78   7.4  0.8   3.5  0.5  1.1  0.15  1.0   \n",
       "8   0.017  0.34  1.16  ...  13.3  0.99   6.6  0.8   3.6  0.5  1.1  0.12  0.6   \n",
       "9   0.047  0.68  1.86  ...  21.8  2.36  12.5  1.5   7.2  1.3  3.5  0.49  2.7   \n",
       "10  0.045  0.80  1.98  ...  17.6  1.81   9.1  0.9   4.2  0.7  1.8  0.21  1.1   \n",
       "11  0.038  0.49  1.43  ...  15.2  1.13   7.9  0.9   4.1  0.7  2.0  0.25  1.4   \n",
       "12  0.048  0.59  1.48  ...  16.6  1.21   8.4  0.9   4.2  0.7  2.0  0.27  1.5   \n",
       "13  0.048  0.66  1.83  ...  25.3  2.77  15.1  1.9  10.1  1.9  5.3  0.74  4.2   \n",
       "14  0.038  0.22  0.60  ...   9.7  0.83   4.4  0.5   2.0  0.3  0.7  0.08  0.4   \n",
       "15  0.021  0.36  0.59  ...  11.0  0.58   7.6  0.9   3.9  0.6  1.3  0.14  0.8   \n",
       "16  0.023  0.38  1.06  ...  12.2  0.89   5.8  0.6   2.7  0.4  1.0  0.13  0.7   \n",
       "17  0.021  0.35  1.09  ...   8.8  0.80   4.3  0.5   2.2  0.4  0.9  0.11  0.6   \n",
       "18  0.014  0.34  1.03  ...  16.4  1.29   9.9  1.0   4.1  0.6  1.5  0.17  0.9   \n",
       "19  0.019  0.34  0.68  ...   8.8  0.71   5.1  0.6   2.6  0.4  1.0  0.13  0.7   \n",
       "20  0.045  0.58  1.64  ...  15.6  1.55   7.6  0.7   2.8  0.4  1.0  0.13  0.7   \n",
       "21  0.042  0.46  1.41  ...  13.6  1.63   6.2  0.6   2.8  0.4  1.0  0.13  0.7   \n",
       "22  0.048  0.60  1.84  ...  18.9  1.43  10.5  1.1   4.6  0.7  1.5  0.18  0.9   \n",
       "23  0.041  0.43  1.78  ...  14.7  1.21   8.3  0.8   3.6  0.5  1.1  0.14  0.8   \n",
       "24  0.045  0.48  1.78  ...  18.8  1.21  10.5  1.1   4.3  0.6  1.3  0.15  0.8   \n",
       "25  0.034  0.44  2.16  ...  10.0  1.25   5.7  0.6   2.7  0.4  1.0  0.13  0.8   \n",
       "26  0.047  0.62  1.81  ...  21.1  1.49  10.9  1.0   3.8  0.5  1.2  0.15  0.9   \n",
       "27  0.049  0.55  1.90  ...  15.0  1.26   8.8  0.9   4.0  0.6  1.4  0.17  1.0   \n",
       "28  0.050  0.60  3.62  ...  18.0  1.39  10.2  1.1   4.8  0.7  1.7  0.22  1.3   \n",
       "29  0.035  0.41  1.58  ...  14.3  1.24   7.4  0.7   2.9  0.4  0.9  0.11  0.7   \n",
       "30  0.068  0.85  2.24  ...  21.0  1.45  12.2  1.3   6.3  0.9  2.3  0.30  1.8   \n",
       "31  0.050  0.60  1.90  ...  18.5  1.70   8.9  0.9   4.0  0.6  1.6  0.18  0.9   \n",
       "32  0.041  0.45  2.18  ...  14.8  1.33   7.9  0.8   3.5  0.5  1.4  0.16  0.9   \n",
       "33  0.059  0.65  1.99  ...  14.8  1.36   8.2  1.0   4.6  0.7  1.8  0.21  1.1   \n",
       "34  0.055  1.09  2.56  ...  19.9  2.45  12.2  1.5   7.3  1.2  3.2  0.39  2.2   \n",
       "35  0.069  0.83  2.01  ...  22.8  1.47  12.3  1.6   7.2  1.1  2.6  0.32  1.8   \n",
       "36  0.043  0.45  1.47  ...  23.3  1.31  10.3  1.0   3.8  0.6  1.4  0.17  0.9   \n",
       "37  0.060  0.84  2.55  ...  20.9  1.68  10.8  1.4   7.0  1.3  3.4  0.43  2.4   \n",
       "\n",
       "      Lu  \n",
       "0   0.11  \n",
       "1   0.31  \n",
       "2   0.11  \n",
       "3   0.57  \n",
       "4   0.08  \n",
       "5   0.08  \n",
       "6   0.10  \n",
       "7   0.14  \n",
       "8   0.07  \n",
       "9   0.34  \n",
       "10  0.14  \n",
       "11  0.18  \n",
       "12  0.18  \n",
       "13  0.53  \n",
       "14  0.05  \n",
       "15  0.09  \n",
       "16  0.08  \n",
       "17  0.08  \n",
       "18  0.11  \n",
       "19  0.09  \n",
       "20  0.09  \n",
       "21  0.09  \n",
       "22  0.13  \n",
       "23  0.11  \n",
       "24  0.12  \n",
       "25  0.12  \n",
       "26  0.12  \n",
       "27  0.15  \n",
       "28  0.20  \n",
       "29  0.10  \n",
       "30  0.29  \n",
       "31  0.12  \n",
       "32  0.11  \n",
       "33  0.14  \n",
       "34  0.32  \n",
       "35  0.25  \n",
       "36  0.13  \n",
       "37  0.31  \n",
       "\n",
       "[38 rows x 50 columns]"
      ]
     },
     "metadata": {},
     "output_type": "display_data"
    }
   ],
   "source": [
    "# Show the database\n",
    "display(df)"
   ]
  },
  {
   "cell_type": "code",
   "execution_count": 10,
   "id": "17b7ff04",
   "metadata": {},
   "outputs": [],
   "source": [
    "# Make a copy of database\n",
    "df2 = df.copy()"
   ]
  },
  {
   "cell_type": "code",
   "execution_count": 11,
   "id": "6d574d44",
   "metadata": {},
   "outputs": [
    {
     "name": "stdout",
     "output_type": "stream",
     "text": [
      "<class 'pandas.core.frame.DataFrame'>\n",
      "RangeIndex: 38 entries, 0 to 37\n",
      "Data columns (total 50 columns):\n",
      " #   Column     Non-Null Count  Dtype  \n",
      "---  ------     --------------  -----  \n",
      " 0   Sample     38 non-null     object \n",
      " 1   Unit       38 non-null     object \n",
      " 2   Reference  38 non-null     object \n",
      " 3   SiO2       38 non-null     float64\n",
      " 4   TiO2       38 non-null     float64\n",
      " 5   Al2O3      38 non-null     float64\n",
      " 6   Fe2O3      38 non-null     float64\n",
      " 7   MnO        38 non-null     float64\n",
      " 8   MgO        38 non-null     float64\n",
      " 9   CaO        38 non-null     float64\n",
      " 10  Na2O       38 non-null     float64\n",
      " 11  K2O        38 non-null     float64\n",
      " 12  P2O5       38 non-null     float64\n",
      " 13  LOI        38 non-null     float64\n",
      " 14  Total      38 non-null     float64\n",
      " 15  Cs         38 non-null     float64\n",
      " 16  Rb         38 non-null     int64  \n",
      " 17  Ba         38 non-null     int64  \n",
      " 18  Sr         38 non-null     int64  \n",
      " 19  Pb         38 non-null     int64  \n",
      " 20  Th         35 non-null     float64\n",
      " 21  U          38 non-null     float64\n",
      " 22  Zr         38 non-null     int64  \n",
      " 23  Hf         38 non-null     float64\n",
      " 24  Ta         38 non-null     float64\n",
      " 25  Y          38 non-null     int64  \n",
      " 26  Nb         38 non-null     int64  \n",
      " 27  Sc         38 non-null     int64  \n",
      " 28  Cr         9 non-null      float64\n",
      " 29  Ni         9 non-null      float64\n",
      " 30  Co         30 non-null     float64\n",
      " 31  V          37 non-null     float64\n",
      " 32  W          38 non-null     int64  \n",
      " 33  Ga         38 non-null     int64  \n",
      " 34  Zn         38 non-null     int64  \n",
      " 35  Cu         9 non-null      float64\n",
      " 36  La         38 non-null     float64\n",
      " 37  Ce         38 non-null     int64  \n",
      " 38  Pr         38 non-null     float64\n",
      " 39  Nd         38 non-null     float64\n",
      " 40  Sm         38 non-null     float64\n",
      " 41  Eu         38 non-null     float64\n",
      " 42  Gd         38 non-null     float64\n",
      " 43  Tb         38 non-null     float64\n",
      " 44  Dy         38 non-null     float64\n",
      " 45  Ho         38 non-null     float64\n",
      " 46  Er         38 non-null     float64\n",
      " 47  Tm         38 non-null     float64\n",
      " 48  Yb         38 non-null     float64\n",
      " 49  Lu         38 non-null     float64\n",
      "dtypes: float64(35), int64(12), object(3)\n",
      "memory usage: 15.0+ KB\n"
     ]
    }
   ],
   "source": [
    "# Information about the database\n",
    "df.info()"
   ]
  },
  {
   "cell_type": "code",
   "execution_count": 12,
   "id": "b4d97a53",
   "metadata": {},
   "outputs": [
    {
     "data": {
      "text/html": [
       "<div>\n",
       "<style scoped>\n",
       "    .dataframe tbody tr th:only-of-type {\n",
       "        vertical-align: middle;\n",
       "    }\n",
       "\n",
       "    .dataframe tbody tr th {\n",
       "        vertical-align: top;\n",
       "    }\n",
       "\n",
       "    .dataframe thead th {\n",
       "        text-align: right;\n",
       "    }\n",
       "</style>\n",
       "<table border=\"1\" class=\"dataframe\">\n",
       "  <thead>\n",
       "    <tr style=\"text-align: right;\">\n",
       "      <th></th>\n",
       "      <th>SiO2</th>\n",
       "      <th>TiO2</th>\n",
       "      <th>Al2O3</th>\n",
       "      <th>Fe2O3</th>\n",
       "      <th>MnO</th>\n",
       "      <th>MgO</th>\n",
       "      <th>CaO</th>\n",
       "      <th>Na2O</th>\n",
       "      <th>K2O</th>\n",
       "      <th>P2O5</th>\n",
       "      <th>...</th>\n",
       "      <th>Sm</th>\n",
       "      <th>Eu</th>\n",
       "      <th>Gd</th>\n",
       "      <th>Tb</th>\n",
       "      <th>Dy</th>\n",
       "      <th>Ho</th>\n",
       "      <th>Er</th>\n",
       "      <th>Tm</th>\n",
       "      <th>Yb</th>\n",
       "      <th>Lu</th>\n",
       "    </tr>\n",
       "  </thead>\n",
       "  <tbody>\n",
       "    <tr>\n",
       "      <th>count</th>\n",
       "      <td>38.000000</td>\n",
       "      <td>38.000000</td>\n",
       "      <td>38.000000</td>\n",
       "      <td>38.000000</td>\n",
       "      <td>38.000000</td>\n",
       "      <td>38.000000</td>\n",
       "      <td>38.000000</td>\n",
       "      <td>38.000000</td>\n",
       "      <td>38.000000</td>\n",
       "      <td>38.000000</td>\n",
       "      <td>...</td>\n",
       "      <td>38.000000</td>\n",
       "      <td>38.000000</td>\n",
       "      <td>38.000000</td>\n",
       "      <td>38.000000</td>\n",
       "      <td>38.000000</td>\n",
       "      <td>38.000000</td>\n",
       "      <td>38.000000</td>\n",
       "      <td>38.000000</td>\n",
       "      <td>38.000000</td>\n",
       "      <td>38.000000</td>\n",
       "    </tr>\n",
       "    <tr>\n",
       "      <th>mean</th>\n",
       "      <td>70.405789</td>\n",
       "      <td>0.587053</td>\n",
       "      <td>14.002632</td>\n",
       "      <td>2.915526</td>\n",
       "      <td>0.040474</td>\n",
       "      <td>0.540526</td>\n",
       "      <td>1.628684</td>\n",
       "      <td>2.749211</td>\n",
       "      <td>5.633684</td>\n",
       "      <td>0.189211</td>\n",
       "      <td>...</td>\n",
       "      <td>16.250000</td>\n",
       "      <td>1.388421</td>\n",
       "      <td>8.844737</td>\n",
       "      <td>0.957895</td>\n",
       "      <td>4.331579</td>\n",
       "      <td>0.681579</td>\n",
       "      <td>1.710526</td>\n",
       "      <td>0.216053</td>\n",
       "      <td>1.226316</td>\n",
       "      <td>0.166842</td>\n",
       "    </tr>\n",
       "    <tr>\n",
       "      <th>std</th>\n",
       "      <td>2.123799</td>\n",
       "      <td>0.206320</td>\n",
       "      <td>0.357239</td>\n",
       "      <td>0.838273</td>\n",
       "      <td>0.014606</td>\n",
       "      <td>0.183935</td>\n",
       "      <td>0.599460</td>\n",
       "      <td>0.204244</td>\n",
       "      <td>0.384036</td>\n",
       "      <td>0.056539</td>\n",
       "      <td>...</td>\n",
       "      <td>4.860472</td>\n",
       "      <td>0.553839</td>\n",
       "      <td>2.890497</td>\n",
       "      <td>0.370997</td>\n",
       "      <td>1.957674</td>\n",
       "      <td>0.366765</td>\n",
       "      <td>1.033177</td>\n",
       "      <td>0.146038</td>\n",
       "      <td>0.858561</td>\n",
       "      <td>0.119483</td>\n",
       "    </tr>\n",
       "    <tr>\n",
       "      <th>min</th>\n",
       "      <td>65.830000</td>\n",
       "      <td>0.317000</td>\n",
       "      <td>13.250000</td>\n",
       "      <td>1.500000</td>\n",
       "      <td>0.014000</td>\n",
       "      <td>0.220000</td>\n",
       "      <td>0.590000</td>\n",
       "      <td>2.180000</td>\n",
       "      <td>4.800000</td>\n",
       "      <td>0.080000</td>\n",
       "      <td>...</td>\n",
       "      <td>8.800000</td>\n",
       "      <td>0.580000</td>\n",
       "      <td>4.300000</td>\n",
       "      <td>0.500000</td>\n",
       "      <td>2.000000</td>\n",
       "      <td>0.300000</td>\n",
       "      <td>0.700000</td>\n",
       "      <td>0.080000</td>\n",
       "      <td>0.400000</td>\n",
       "      <td>0.050000</td>\n",
       "    </tr>\n",
       "    <tr>\n",
       "      <th>25%</th>\n",
       "      <td>68.680000</td>\n",
       "      <td>0.419250</td>\n",
       "      <td>13.835000</td>\n",
       "      <td>2.142500</td>\n",
       "      <td>0.026500</td>\n",
       "      <td>0.412500</td>\n",
       "      <td>1.207500</td>\n",
       "      <td>2.612500</td>\n",
       "      <td>5.322500</td>\n",
       "      <td>0.152500</td>\n",
       "      <td>...</td>\n",
       "      <td>13.200000</td>\n",
       "      <td>1.025000</td>\n",
       "      <td>6.800000</td>\n",
       "      <td>0.700000</td>\n",
       "      <td>2.900000</td>\n",
       "      <td>0.425000</td>\n",
       "      <td>1.025000</td>\n",
       "      <td>0.130000</td>\n",
       "      <td>0.700000</td>\n",
       "      <td>0.092500</td>\n",
       "    </tr>\n",
       "    <tr>\n",
       "      <th>50%</th>\n",
       "      <td>70.280000</td>\n",
       "      <td>0.543000</td>\n",
       "      <td>13.985000</td>\n",
       "      <td>2.945000</td>\n",
       "      <td>0.043500</td>\n",
       "      <td>0.505000</td>\n",
       "      <td>1.685000</td>\n",
       "      <td>2.720000</td>\n",
       "      <td>5.730000</td>\n",
       "      <td>0.180000</td>\n",
       "      <td>...</td>\n",
       "      <td>15.400000</td>\n",
       "      <td>1.300000</td>\n",
       "      <td>8.350000</td>\n",
       "      <td>0.900000</td>\n",
       "      <td>3.850000</td>\n",
       "      <td>0.600000</td>\n",
       "      <td>1.350000</td>\n",
       "      <td>0.155000</td>\n",
       "      <td>0.900000</td>\n",
       "      <td>0.120000</td>\n",
       "    </tr>\n",
       "    <tr>\n",
       "      <th>75%</th>\n",
       "      <td>71.797500</td>\n",
       "      <td>0.699000</td>\n",
       "      <td>14.222500</td>\n",
       "      <td>3.550000</td>\n",
       "      <td>0.048750</td>\n",
       "      <td>0.657500</td>\n",
       "      <td>1.900000</td>\n",
       "      <td>2.910000</td>\n",
       "      <td>5.887500</td>\n",
       "      <td>0.210000</td>\n",
       "      <td>...</td>\n",
       "      <td>19.700000</td>\n",
       "      <td>1.610000</td>\n",
       "      <td>10.500000</td>\n",
       "      <td>1.100000</td>\n",
       "      <td>4.600000</td>\n",
       "      <td>0.700000</td>\n",
       "      <td>1.950000</td>\n",
       "      <td>0.242500</td>\n",
       "      <td>1.375000</td>\n",
       "      <td>0.180000</td>\n",
       "    </tr>\n",
       "    <tr>\n",
       "      <th>max</th>\n",
       "      <td>74.750000</td>\n",
       "      <td>1.096000</td>\n",
       "      <td>14.950000</td>\n",
       "      <td>4.270000</td>\n",
       "      <td>0.069000</td>\n",
       "      <td>1.090000</td>\n",
       "      <td>3.620000</td>\n",
       "      <td>3.150000</td>\n",
       "      <td>6.220000</td>\n",
       "      <td>0.330000</td>\n",
       "      <td>...</td>\n",
       "      <td>26.700000</td>\n",
       "      <td>2.940000</td>\n",
       "      <td>16.200000</td>\n",
       "      <td>1.900000</td>\n",
       "      <td>10.100000</td>\n",
       "      <td>1.900000</td>\n",
       "      <td>5.300000</td>\n",
       "      <td>0.740000</td>\n",
       "      <td>4.200000</td>\n",
       "      <td>0.570000</td>\n",
       "    </tr>\n",
       "  </tbody>\n",
       "</table>\n",
       "<p>8 rows × 47 columns</p>\n",
       "</div>"
      ],
      "text/plain": [
       "            SiO2       TiO2      Al2O3      Fe2O3        MnO        MgO  \\\n",
       "count  38.000000  38.000000  38.000000  38.000000  38.000000  38.000000   \n",
       "mean   70.405789   0.587053  14.002632   2.915526   0.040474   0.540526   \n",
       "std     2.123799   0.206320   0.357239   0.838273   0.014606   0.183935   \n",
       "min    65.830000   0.317000  13.250000   1.500000   0.014000   0.220000   \n",
       "25%    68.680000   0.419250  13.835000   2.142500   0.026500   0.412500   \n",
       "50%    70.280000   0.543000  13.985000   2.945000   0.043500   0.505000   \n",
       "75%    71.797500   0.699000  14.222500   3.550000   0.048750   0.657500   \n",
       "max    74.750000   1.096000  14.950000   4.270000   0.069000   1.090000   \n",
       "\n",
       "             CaO       Na2O        K2O       P2O5  ...         Sm         Eu  \\\n",
       "count  38.000000  38.000000  38.000000  38.000000  ...  38.000000  38.000000   \n",
       "mean    1.628684   2.749211   5.633684   0.189211  ...  16.250000   1.388421   \n",
       "std     0.599460   0.204244   0.384036   0.056539  ...   4.860472   0.553839   \n",
       "min     0.590000   2.180000   4.800000   0.080000  ...   8.800000   0.580000   \n",
       "25%     1.207500   2.612500   5.322500   0.152500  ...  13.200000   1.025000   \n",
       "50%     1.685000   2.720000   5.730000   0.180000  ...  15.400000   1.300000   \n",
       "75%     1.900000   2.910000   5.887500   0.210000  ...  19.700000   1.610000   \n",
       "max     3.620000   3.150000   6.220000   0.330000  ...  26.700000   2.940000   \n",
       "\n",
       "              Gd         Tb         Dy         Ho         Er         Tm  \\\n",
       "count  38.000000  38.000000  38.000000  38.000000  38.000000  38.000000   \n",
       "mean    8.844737   0.957895   4.331579   0.681579   1.710526   0.216053   \n",
       "std     2.890497   0.370997   1.957674   0.366765   1.033177   0.146038   \n",
       "min     4.300000   0.500000   2.000000   0.300000   0.700000   0.080000   \n",
       "25%     6.800000   0.700000   2.900000   0.425000   1.025000   0.130000   \n",
       "50%     8.350000   0.900000   3.850000   0.600000   1.350000   0.155000   \n",
       "75%    10.500000   1.100000   4.600000   0.700000   1.950000   0.242500   \n",
       "max    16.200000   1.900000  10.100000   1.900000   5.300000   0.740000   \n",
       "\n",
       "              Yb         Lu  \n",
       "count  38.000000  38.000000  \n",
       "mean    1.226316   0.166842  \n",
       "std     0.858561   0.119483  \n",
       "min     0.400000   0.050000  \n",
       "25%     0.700000   0.092500  \n",
       "50%     0.900000   0.120000  \n",
       "75%     1.375000   0.180000  \n",
       "max     4.200000   0.570000  \n",
       "\n",
       "[8 rows x 47 columns]"
      ]
     },
     "execution_count": 12,
     "metadata": {},
     "output_type": "execute_result"
    }
   ],
   "source": [
    "# Basic statistics on database\n",
    "df.describe()"
   ]
  },
  {
   "cell_type": "code",
   "execution_count": 13,
   "id": "11b2a2a6",
   "metadata": {},
   "outputs": [],
   "source": [
    "# Convert weight % to ppm\n",
    "df['SiO2'] = df['SiO2']*10000\n",
    "df['TiO2'] = df['TiO2']*10000\n",
    "df['Al2O3'] = df['Al2O3']*10000\n",
    "df['Fe2O3'] = df['Fe2O3']*10000\n",
    "df['MnO'] = df['MnO']*10000\n",
    "df['MgO'] = df['MgO']*10000\n",
    "df['CaO'] = df['CaO']*10000\n",
    "df['Na2O'] = df['Na2O']*10000\n",
    "df['K2O'] = df['K2O']*10000\n",
    "df['P2O5'] = df['P2O5']*10000"
   ]
  },
  {
   "cell_type": "code",
   "execution_count": 14,
   "id": "5502bde1",
   "metadata": {},
   "outputs": [],
   "source": [
    "# Eliminating unnecessary information and columns with missing values\n",
    "df = df.drop(['Cr', 'Th', 'Ni', 'Co', 'V', 'Cu', 'LOI', 'Total', 'Reference'], axis=1)"
   ]
  },
  {
   "cell_type": "code",
   "execution_count": 15,
   "id": "fde080c0",
   "metadata": {},
   "outputs": [
    {
     "name": "stdout",
     "output_type": "stream",
     "text": [
      "<class 'pandas.core.frame.DataFrame'>\n",
      "RangeIndex: 38 entries, 0 to 37\n",
      "Data columns (total 41 columns):\n",
      " #   Column  Non-Null Count  Dtype  \n",
      "---  ------  --------------  -----  \n",
      " 0   Sample  38 non-null     object \n",
      " 1   Unit    38 non-null     object \n",
      " 2   SiO2    38 non-null     float64\n",
      " 3   TiO2    38 non-null     float64\n",
      " 4   Al2O3   38 non-null     float64\n",
      " 5   Fe2O3   38 non-null     float64\n",
      " 6   MnO     38 non-null     float64\n",
      " 7   MgO     38 non-null     float64\n",
      " 8   CaO     38 non-null     float64\n",
      " 9   Na2O    38 non-null     float64\n",
      " 10  K2O     38 non-null     float64\n",
      " 11  P2O5    38 non-null     float64\n",
      " 12  Cs      38 non-null     float64\n",
      " 13  Rb      38 non-null     int64  \n",
      " 14  Ba      38 non-null     int64  \n",
      " 15  Sr      38 non-null     int64  \n",
      " 16  Pb      38 non-null     int64  \n",
      " 17  U       38 non-null     float64\n",
      " 18  Zr      38 non-null     int64  \n",
      " 19  Hf      38 non-null     float64\n",
      " 20  Ta      38 non-null     float64\n",
      " 21  Y       38 non-null     int64  \n",
      " 22  Nb      38 non-null     int64  \n",
      " 23  Sc      38 non-null     int64  \n",
      " 24  W       38 non-null     int64  \n",
      " 25  Ga      38 non-null     int64  \n",
      " 26  Zn      38 non-null     int64  \n",
      " 27  La      38 non-null     float64\n",
      " 28  Ce      38 non-null     int64  \n",
      " 29  Pr      38 non-null     float64\n",
      " 30  Nd      38 non-null     float64\n",
      " 31  Sm      38 non-null     float64\n",
      " 32  Eu      38 non-null     float64\n",
      " 33  Gd      38 non-null     float64\n",
      " 34  Tb      38 non-null     float64\n",
      " 35  Dy      38 non-null     float64\n",
      " 36  Ho      38 non-null     float64\n",
      " 37  Er      38 non-null     float64\n",
      " 38  Tm      38 non-null     float64\n",
      " 39  Yb      38 non-null     float64\n",
      " 40  Lu      38 non-null     float64\n",
      "dtypes: float64(27), int64(12), object(2)\n",
      "memory usage: 12.3+ KB\n"
     ]
    }
   ],
   "source": [
    "df.info()"
   ]
  },
  {
   "cell_type": "markdown",
   "id": "cebd19e5",
   "metadata": {},
   "source": [
    "# t-SNE"
   ]
  },
  {
   "cell_type": "markdown",
   "id": "9cc4c117",
   "metadata": {},
   "source": [
    "Dimensionality reduction"
   ]
  },
  {
   "cell_type": "code",
   "execution_count": 16,
   "id": "87283a9b",
   "metadata": {},
   "outputs": [
    {
     "data": {
      "text/plain": [
       "(38, 2)"
      ]
     },
     "execution_count": 16,
     "metadata": {},
     "output_type": "execute_result"
    }
   ],
   "source": [
    "x = df.drop(columns=['Unit', 'Sample'])\n",
    "min_max_scaler = preprocessing.MinMaxScaler()\n",
    "X_train_minmax = min_max_scaler.fit_transform(x)\n",
    "y = df['Unit']\n",
    "\n",
    "X_embedded = TSNE(n_components=2, learning_rate='auto', init='random', perplexity=30).fit_transform(X_train_minmax)\n",
    "X_embedded.shape"
   ]
  },
  {
   "cell_type": "code",
   "execution_count": 17,
   "id": "52c3f147",
   "metadata": {},
   "outputs": [
    {
     "name": "stderr",
     "output_type": "stream",
     "text": [
      "C:\\Users\\Mauro Cesar\\anaconda3\\lib\\site-packages\\sklearn\\manifold\\_t_sne.py:780: FutureWarning: The default initialization in TSNE will change from 'random' to 'pca' in 1.2.\n",
      "  warnings.warn(\n",
      "C:\\Users\\Mauro Cesar\\anaconda3\\lib\\site-packages\\sklearn\\manifold\\_t_sne.py:790: FutureWarning: The default learning rate in TSNE will change from 200.0 to 'auto' in 1.2.\n",
      "  warnings.warn(\n"
     ]
    },
    {
     "name": "stdout",
     "output_type": "stream",
     "text": [
      "[t-SNE] Computing 37 nearest neighbors...\n",
      "[t-SNE] Indexed 38 samples in 0.000s...\n",
      "[t-SNE] Computed neighbors for 38 samples in 0.001s...\n",
      "[t-SNE] Computed conditional probabilities for sample 38 / 38\n",
      "[t-SNE] Mean sigma: 1.798905\n",
      "[t-SNE] KL divergence after 250 iterations with early exaggeration: 44.046841\n",
      "[t-SNE] KL divergence after 2300 iterations: 0.274491\n"
     ]
    }
   ],
   "source": [
    "tsne = TSNE(n_components=2, n_iter=4000, verbose=1, random_state=123)\n",
    "z = tsne.fit_transform(X_train_minmax) "
   ]
  },
  {
   "cell_type": "code",
   "execution_count": 18,
   "id": "0cf7a8e3",
   "metadata": {},
   "outputs": [],
   "source": [
    "data = pd.DataFrame()\n",
    "data[\"y\"] = y\n",
    "data[\"comp-1\"] = z[:,0]\n",
    "data[\"comp-2\"] = z[:,1]"
   ]
  },
  {
   "cell_type": "code",
   "execution_count": 43,
   "id": "10268942",
   "metadata": {},
   "outputs": [
    {
     "data": {
      "application/vnd.plotly.v1+json": {
       "config": {
        "plotlyServerURL": "https://plot.ly"
       },
       "data": [
        {
         "hovertemplate": "y=Sana<br>comp-1=%{x}<br>comp-2=%{y}<extra></extra>",
         "legendgroup": "Sana",
         "marker": {
          "color": "#1F77B4",
          "symbol": "circle"
         },
         "mode": "markers",
         "name": "Sana",
         "orientation": "v",
         "showlegend": true,
         "type": "scatter",
         "x": [
          39.9514274597168,
          -95.08887481689453,
          -75.34837341308594,
          -170.64089965820312,
          139.48406982421875,
          145.42393493652344,
          49.16139221191406,
          74.43592834472656,
          106.87998962402344,
          -129.79237365722656,
          -70.89458465576172,
          16.218833923339844,
          -18.50250816345215,
          -141.29859924316406,
          107.51197052001953,
          154.9973602294922,
          87.65369415283203,
          109.39507293701172,
          70.24759674072266,
          115.07118225097656,
          19.79903221130371,
          56.20533752441406
         ],
         "xaxis": "x",
         "y": [
          -73.59358978271484,
          -50.96967697143555,
          -17.249528884887695,
          -43.81509780883789,
          28.426542282104492,
          -54.445404052734375,
          11.03064250946045,
          -52.271629333496094,
          -80.40152740478516,
          -32.91075134277344,
          -85.9585952758789,
          82.52156066894531,
          75.23957061767578,
          -78.6304931640625,
          60.52280044555664,
          -12.516905784606934,
          24.61137580871582,
          -37.60334396362305,
          -101.19721221923828,
          -2.319533348083496,
          39.53252410888672,
          52.050025939941406
         ],
         "yaxis": "y"
        },
        {
         "hovertemplate": "y=Itaoca<br>comp-1=%{x}<br>comp-2=%{y}<extra></extra>",
         "legendgroup": "Itaoca",
         "marker": {
          "color": "#FF7F0E",
          "symbol": "circle"
         },
         "mode": "markers",
         "name": "Itaoca",
         "orientation": "v",
         "showlegend": true,
         "type": "scatter",
         "x": [
          -24.724504470825195,
          9.252154350280762,
          -15.873763084411621,
          75.05537414550781,
          -43.78335189819336,
          -11.411735534667969,
          -39.45258331298828,
          42.09917449951172,
          -102.89348602294922,
          -72.84159851074219,
          16.11515235900879,
          -63.296966552734375,
          -162.73240661621094,
          -138.4877166748047,
          -46.791690826416016,
          -114.06318664550781
         ],
         "xaxis": "x",
         "y": [
          -68.72935485839844,
          -46.64434814453125,
          -22.440778732299805,
          -13.805410385131836,
          -2.6475613117218018,
          16.48556137084961,
          36.79124450683594,
          -30.723907470703125,
          52.50971603393555,
          20.675050735473633,
          -5.28479528427124,
          68.23699951171875,
          3.5890872478485107,
          38.98663330078125,
          -41.288185119628906,
          6.08735990524292
         ],
         "yaxis": "y"
        }
       ],
       "layout": {
        "legend": {
         "title": {
          "text": "y"
         },
         "tracegroupgap": 0
        },
        "margin": {
         "t": 60
        },
        "template": {
         "data": {
          "bar": [
           {
            "error_x": {
             "color": "rgb(36,36,36)"
            },
            "error_y": {
             "color": "rgb(36,36,36)"
            },
            "marker": {
             "line": {
              "color": "white",
              "width": 0.5
             },
             "pattern": {
              "fillmode": "overlay",
              "size": 10,
              "solidity": 0.2
             }
            },
            "type": "bar"
           }
          ],
          "barpolar": [
           {
            "marker": {
             "line": {
              "color": "white",
              "width": 0.5
             },
             "pattern": {
              "fillmode": "overlay",
              "size": 10,
              "solidity": 0.2
             }
            },
            "type": "barpolar"
           }
          ],
          "carpet": [
           {
            "aaxis": {
             "endlinecolor": "rgb(36,36,36)",
             "gridcolor": "white",
             "linecolor": "white",
             "minorgridcolor": "white",
             "startlinecolor": "rgb(36,36,36)"
            },
            "baxis": {
             "endlinecolor": "rgb(36,36,36)",
             "gridcolor": "white",
             "linecolor": "white",
             "minorgridcolor": "white",
             "startlinecolor": "rgb(36,36,36)"
            },
            "type": "carpet"
           }
          ],
          "choropleth": [
           {
            "colorbar": {
             "outlinewidth": 1,
             "tickcolor": "rgb(36,36,36)",
             "ticks": "outside"
            },
            "type": "choropleth"
           }
          ],
          "contour": [
           {
            "colorbar": {
             "outlinewidth": 1,
             "tickcolor": "rgb(36,36,36)",
             "ticks": "outside"
            },
            "colorscale": [
             [
              0,
              "#440154"
             ],
             [
              0.1111111111111111,
              "#482878"
             ],
             [
              0.2222222222222222,
              "#3e4989"
             ],
             [
              0.3333333333333333,
              "#31688e"
             ],
             [
              0.4444444444444444,
              "#26828e"
             ],
             [
              0.5555555555555556,
              "#1f9e89"
             ],
             [
              0.6666666666666666,
              "#35b779"
             ],
             [
              0.7777777777777778,
              "#6ece58"
             ],
             [
              0.8888888888888888,
              "#b5de2b"
             ],
             [
              1,
              "#fde725"
             ]
            ],
            "type": "contour"
           }
          ],
          "contourcarpet": [
           {
            "colorbar": {
             "outlinewidth": 1,
             "tickcolor": "rgb(36,36,36)",
             "ticks": "outside"
            },
            "type": "contourcarpet"
           }
          ],
          "heatmap": [
           {
            "colorbar": {
             "outlinewidth": 1,
             "tickcolor": "rgb(36,36,36)",
             "ticks": "outside"
            },
            "colorscale": [
             [
              0,
              "#440154"
             ],
             [
              0.1111111111111111,
              "#482878"
             ],
             [
              0.2222222222222222,
              "#3e4989"
             ],
             [
              0.3333333333333333,
              "#31688e"
             ],
             [
              0.4444444444444444,
              "#26828e"
             ],
             [
              0.5555555555555556,
              "#1f9e89"
             ],
             [
              0.6666666666666666,
              "#35b779"
             ],
             [
              0.7777777777777778,
              "#6ece58"
             ],
             [
              0.8888888888888888,
              "#b5de2b"
             ],
             [
              1,
              "#fde725"
             ]
            ],
            "type": "heatmap"
           }
          ],
          "heatmapgl": [
           {
            "colorbar": {
             "outlinewidth": 1,
             "tickcolor": "rgb(36,36,36)",
             "ticks": "outside"
            },
            "colorscale": [
             [
              0,
              "#440154"
             ],
             [
              0.1111111111111111,
              "#482878"
             ],
             [
              0.2222222222222222,
              "#3e4989"
             ],
             [
              0.3333333333333333,
              "#31688e"
             ],
             [
              0.4444444444444444,
              "#26828e"
             ],
             [
              0.5555555555555556,
              "#1f9e89"
             ],
             [
              0.6666666666666666,
              "#35b779"
             ],
             [
              0.7777777777777778,
              "#6ece58"
             ],
             [
              0.8888888888888888,
              "#b5de2b"
             ],
             [
              1,
              "#fde725"
             ]
            ],
            "type": "heatmapgl"
           }
          ],
          "histogram": [
           {
            "marker": {
             "line": {
              "color": "white",
              "width": 0.6
             }
            },
            "type": "histogram"
           }
          ],
          "histogram2d": [
           {
            "colorbar": {
             "outlinewidth": 1,
             "tickcolor": "rgb(36,36,36)",
             "ticks": "outside"
            },
            "colorscale": [
             [
              0,
              "#440154"
             ],
             [
              0.1111111111111111,
              "#482878"
             ],
             [
              0.2222222222222222,
              "#3e4989"
             ],
             [
              0.3333333333333333,
              "#31688e"
             ],
             [
              0.4444444444444444,
              "#26828e"
             ],
             [
              0.5555555555555556,
              "#1f9e89"
             ],
             [
              0.6666666666666666,
              "#35b779"
             ],
             [
              0.7777777777777778,
              "#6ece58"
             ],
             [
              0.8888888888888888,
              "#b5de2b"
             ],
             [
              1,
              "#fde725"
             ]
            ],
            "type": "histogram2d"
           }
          ],
          "histogram2dcontour": [
           {
            "colorbar": {
             "outlinewidth": 1,
             "tickcolor": "rgb(36,36,36)",
             "ticks": "outside"
            },
            "colorscale": [
             [
              0,
              "#440154"
             ],
             [
              0.1111111111111111,
              "#482878"
             ],
             [
              0.2222222222222222,
              "#3e4989"
             ],
             [
              0.3333333333333333,
              "#31688e"
             ],
             [
              0.4444444444444444,
              "#26828e"
             ],
             [
              0.5555555555555556,
              "#1f9e89"
             ],
             [
              0.6666666666666666,
              "#35b779"
             ],
             [
              0.7777777777777778,
              "#6ece58"
             ],
             [
              0.8888888888888888,
              "#b5de2b"
             ],
             [
              1,
              "#fde725"
             ]
            ],
            "type": "histogram2dcontour"
           }
          ],
          "mesh3d": [
           {
            "colorbar": {
             "outlinewidth": 1,
             "tickcolor": "rgb(36,36,36)",
             "ticks": "outside"
            },
            "type": "mesh3d"
           }
          ],
          "parcoords": [
           {
            "line": {
             "colorbar": {
              "outlinewidth": 1,
              "tickcolor": "rgb(36,36,36)",
              "ticks": "outside"
             }
            },
            "type": "parcoords"
           }
          ],
          "pie": [
           {
            "automargin": true,
            "type": "pie"
           }
          ],
          "scatter": [
           {
            "marker": {
             "colorbar": {
              "outlinewidth": 1,
              "tickcolor": "rgb(36,36,36)",
              "ticks": "outside"
             }
            },
            "type": "scatter"
           }
          ],
          "scatter3d": [
           {
            "line": {
             "colorbar": {
              "outlinewidth": 1,
              "tickcolor": "rgb(36,36,36)",
              "ticks": "outside"
             }
            },
            "marker": {
             "colorbar": {
              "outlinewidth": 1,
              "tickcolor": "rgb(36,36,36)",
              "ticks": "outside"
             }
            },
            "type": "scatter3d"
           }
          ],
          "scattercarpet": [
           {
            "marker": {
             "colorbar": {
              "outlinewidth": 1,
              "tickcolor": "rgb(36,36,36)",
              "ticks": "outside"
             }
            },
            "type": "scattercarpet"
           }
          ],
          "scattergeo": [
           {
            "marker": {
             "colorbar": {
              "outlinewidth": 1,
              "tickcolor": "rgb(36,36,36)",
              "ticks": "outside"
             }
            },
            "type": "scattergeo"
           }
          ],
          "scattergl": [
           {
            "marker": {
             "colorbar": {
              "outlinewidth": 1,
              "tickcolor": "rgb(36,36,36)",
              "ticks": "outside"
             }
            },
            "type": "scattergl"
           }
          ],
          "scattermapbox": [
           {
            "marker": {
             "colorbar": {
              "outlinewidth": 1,
              "tickcolor": "rgb(36,36,36)",
              "ticks": "outside"
             }
            },
            "type": "scattermapbox"
           }
          ],
          "scatterpolar": [
           {
            "marker": {
             "colorbar": {
              "outlinewidth": 1,
              "tickcolor": "rgb(36,36,36)",
              "ticks": "outside"
             }
            },
            "type": "scatterpolar"
           }
          ],
          "scatterpolargl": [
           {
            "marker": {
             "colorbar": {
              "outlinewidth": 1,
              "tickcolor": "rgb(36,36,36)",
              "ticks": "outside"
             }
            },
            "type": "scatterpolargl"
           }
          ],
          "scatterternary": [
           {
            "marker": {
             "colorbar": {
              "outlinewidth": 1,
              "tickcolor": "rgb(36,36,36)",
              "ticks": "outside"
             }
            },
            "type": "scatterternary"
           }
          ],
          "surface": [
           {
            "colorbar": {
             "outlinewidth": 1,
             "tickcolor": "rgb(36,36,36)",
             "ticks": "outside"
            },
            "colorscale": [
             [
              0,
              "#440154"
             ],
             [
              0.1111111111111111,
              "#482878"
             ],
             [
              0.2222222222222222,
              "#3e4989"
             ],
             [
              0.3333333333333333,
              "#31688e"
             ],
             [
              0.4444444444444444,
              "#26828e"
             ],
             [
              0.5555555555555556,
              "#1f9e89"
             ],
             [
              0.6666666666666666,
              "#35b779"
             ],
             [
              0.7777777777777778,
              "#6ece58"
             ],
             [
              0.8888888888888888,
              "#b5de2b"
             ],
             [
              1,
              "#fde725"
             ]
            ],
            "type": "surface"
           }
          ],
          "table": [
           {
            "cells": {
             "fill": {
              "color": "rgb(237,237,237)"
             },
             "line": {
              "color": "white"
             }
            },
            "header": {
             "fill": {
              "color": "rgb(217,217,217)"
             },
             "line": {
              "color": "white"
             }
            },
            "type": "table"
           }
          ]
         },
         "layout": {
          "annotationdefaults": {
           "arrowhead": 0,
           "arrowwidth": 1
          },
          "autotypenumbers": "strict",
          "coloraxis": {
           "colorbar": {
            "outlinewidth": 1,
            "tickcolor": "rgb(36,36,36)",
            "ticks": "outside"
           }
          },
          "colorscale": {
           "diverging": [
            [
             0,
             "rgb(103,0,31)"
            ],
            [
             0.1,
             "rgb(178,24,43)"
            ],
            [
             0.2,
             "rgb(214,96,77)"
            ],
            [
             0.3,
             "rgb(244,165,130)"
            ],
            [
             0.4,
             "rgb(253,219,199)"
            ],
            [
             0.5,
             "rgb(247,247,247)"
            ],
            [
             0.6,
             "rgb(209,229,240)"
            ],
            [
             0.7,
             "rgb(146,197,222)"
            ],
            [
             0.8,
             "rgb(67,147,195)"
            ],
            [
             0.9,
             "rgb(33,102,172)"
            ],
            [
             1,
             "rgb(5,48,97)"
            ]
           ],
           "sequential": [
            [
             0,
             "#440154"
            ],
            [
             0.1111111111111111,
             "#482878"
            ],
            [
             0.2222222222222222,
             "#3e4989"
            ],
            [
             0.3333333333333333,
             "#31688e"
            ],
            [
             0.4444444444444444,
             "#26828e"
            ],
            [
             0.5555555555555556,
             "#1f9e89"
            ],
            [
             0.6666666666666666,
             "#35b779"
            ],
            [
             0.7777777777777778,
             "#6ece58"
            ],
            [
             0.8888888888888888,
             "#b5de2b"
            ],
            [
             1,
             "#fde725"
            ]
           ],
           "sequentialminus": [
            [
             0,
             "#440154"
            ],
            [
             0.1111111111111111,
             "#482878"
            ],
            [
             0.2222222222222222,
             "#3e4989"
            ],
            [
             0.3333333333333333,
             "#31688e"
            ],
            [
             0.4444444444444444,
             "#26828e"
            ],
            [
             0.5555555555555556,
             "#1f9e89"
            ],
            [
             0.6666666666666666,
             "#35b779"
            ],
            [
             0.7777777777777778,
             "#6ece58"
            ],
            [
             0.8888888888888888,
             "#b5de2b"
            ],
            [
             1,
             "#fde725"
            ]
           ]
          },
          "colorway": [
           "#1F77B4",
           "#FF7F0E",
           "#2CA02C",
           "#D62728",
           "#9467BD",
           "#8C564B",
           "#E377C2",
           "#7F7F7F",
           "#BCBD22",
           "#17BECF"
          ],
          "font": {
           "color": "rgb(36,36,36)"
          },
          "geo": {
           "bgcolor": "white",
           "lakecolor": "white",
           "landcolor": "white",
           "showlakes": true,
           "showland": true,
           "subunitcolor": "white"
          },
          "hoverlabel": {
           "align": "left"
          },
          "hovermode": "closest",
          "mapbox": {
           "style": "light"
          },
          "paper_bgcolor": "white",
          "plot_bgcolor": "white",
          "polar": {
           "angularaxis": {
            "gridcolor": "rgb(232,232,232)",
            "linecolor": "rgb(36,36,36)",
            "showgrid": false,
            "showline": true,
            "ticks": "outside"
           },
           "bgcolor": "white",
           "radialaxis": {
            "gridcolor": "rgb(232,232,232)",
            "linecolor": "rgb(36,36,36)",
            "showgrid": false,
            "showline": true,
            "ticks": "outside"
           }
          },
          "scene": {
           "xaxis": {
            "backgroundcolor": "white",
            "gridcolor": "rgb(232,232,232)",
            "gridwidth": 2,
            "linecolor": "rgb(36,36,36)",
            "showbackground": true,
            "showgrid": false,
            "showline": true,
            "ticks": "outside",
            "zeroline": false,
            "zerolinecolor": "rgb(36,36,36)"
           },
           "yaxis": {
            "backgroundcolor": "white",
            "gridcolor": "rgb(232,232,232)",
            "gridwidth": 2,
            "linecolor": "rgb(36,36,36)",
            "showbackground": true,
            "showgrid": false,
            "showline": true,
            "ticks": "outside",
            "zeroline": false,
            "zerolinecolor": "rgb(36,36,36)"
           },
           "zaxis": {
            "backgroundcolor": "white",
            "gridcolor": "rgb(232,232,232)",
            "gridwidth": 2,
            "linecolor": "rgb(36,36,36)",
            "showbackground": true,
            "showgrid": false,
            "showline": true,
            "ticks": "outside",
            "zeroline": false,
            "zerolinecolor": "rgb(36,36,36)"
           }
          },
          "shapedefaults": {
           "fillcolor": "black",
           "line": {
            "width": 0
           },
           "opacity": 0.3
          },
          "ternary": {
           "aaxis": {
            "gridcolor": "rgb(232,232,232)",
            "linecolor": "rgb(36,36,36)",
            "showgrid": false,
            "showline": true,
            "ticks": "outside"
           },
           "baxis": {
            "gridcolor": "rgb(232,232,232)",
            "linecolor": "rgb(36,36,36)",
            "showgrid": false,
            "showline": true,
            "ticks": "outside"
           },
           "bgcolor": "white",
           "caxis": {
            "gridcolor": "rgb(232,232,232)",
            "linecolor": "rgb(36,36,36)",
            "showgrid": false,
            "showline": true,
            "ticks": "outside"
           }
          },
          "title": {
           "x": 0.05
          },
          "xaxis": {
           "automargin": true,
           "gridcolor": "rgb(232,232,232)",
           "linecolor": "rgb(36,36,36)",
           "showgrid": false,
           "showline": true,
           "ticks": "outside",
           "title": {
            "standoff": 15
           },
           "zeroline": false,
           "zerolinecolor": "rgb(36,36,36)"
          },
          "yaxis": {
           "automargin": true,
           "gridcolor": "rgb(232,232,232)",
           "linecolor": "rgb(36,36,36)",
           "showgrid": false,
           "showline": true,
           "ticks": "outside",
           "title": {
            "standoff": 15
           },
           "zeroline": false,
           "zerolinecolor": "rgb(36,36,36)"
          }
         }
        },
        "xaxis": {
         "anchor": "y",
         "domain": [
          0,
          1
         ],
         "title": {
          "text": "comp-1"
         }
        },
        "yaxis": {
         "anchor": "x",
         "domain": [
          0,
          1
         ],
         "title": {
          "text": "comp-2"
         }
        }
       }
      },
      "text/html": [
       "<div>                            <div id=\"d15cc0fd-dc9e-4256-8e64-b45b890548b0\" class=\"plotly-graph-div\" style=\"height:525px; width:100%;\"></div>            <script type=\"text/javascript\">                require([\"plotly\"], function(Plotly) {                    window.PLOTLYENV=window.PLOTLYENV || {};                                    if (document.getElementById(\"d15cc0fd-dc9e-4256-8e64-b45b890548b0\")) {                    Plotly.newPlot(                        \"d15cc0fd-dc9e-4256-8e64-b45b890548b0\",                        [{\"hovertemplate\":\"y=Sana<br>comp-1=%{x}<br>comp-2=%{y}<extra></extra>\",\"legendgroup\":\"Sana\",\"marker\":{\"color\":\"#1F77B4\",\"symbol\":\"circle\"},\"mode\":\"markers\",\"name\":\"Sana\",\"orientation\":\"v\",\"showlegend\":true,\"x\":[39.9514274597168,-95.08887481689453,-75.34837341308594,-170.64089965820312,139.48406982421875,145.42393493652344,49.16139221191406,74.43592834472656,106.87998962402344,-129.79237365722656,-70.89458465576172,16.218833923339844,-18.50250816345215,-141.29859924316406,107.51197052001953,154.9973602294922,87.65369415283203,109.39507293701172,70.24759674072266,115.07118225097656,19.79903221130371,56.20533752441406],\"xaxis\":\"x\",\"y\":[-73.59358978271484,-50.96967697143555,-17.249528884887695,-43.81509780883789,28.426542282104492,-54.445404052734375,11.03064250946045,-52.271629333496094,-80.40152740478516,-32.91075134277344,-85.9585952758789,82.52156066894531,75.23957061767578,-78.6304931640625,60.52280044555664,-12.516905784606934,24.61137580871582,-37.60334396362305,-101.19721221923828,-2.319533348083496,39.53252410888672,52.050025939941406],\"yaxis\":\"y\",\"type\":\"scatter\"},{\"hovertemplate\":\"y=Itaoca<br>comp-1=%{x}<br>comp-2=%{y}<extra></extra>\",\"legendgroup\":\"Itaoca\",\"marker\":{\"color\":\"#FF7F0E\",\"symbol\":\"circle\"},\"mode\":\"markers\",\"name\":\"Itaoca\",\"orientation\":\"v\",\"showlegend\":true,\"x\":[-24.724504470825195,9.252154350280762,-15.873763084411621,75.05537414550781,-43.78335189819336,-11.411735534667969,-39.45258331298828,42.09917449951172,-102.89348602294922,-72.84159851074219,16.11515235900879,-63.296966552734375,-162.73240661621094,-138.4877166748047,-46.791690826416016,-114.06318664550781],\"xaxis\":\"x\",\"y\":[-68.72935485839844,-46.64434814453125,-22.440778732299805,-13.805410385131836,-2.6475613117218018,16.48556137084961,36.79124450683594,-30.723907470703125,52.50971603393555,20.675050735473633,-5.28479528427124,68.23699951171875,3.5890872478485107,38.98663330078125,-41.288185119628906,6.08735990524292],\"yaxis\":\"y\",\"type\":\"scatter\"}],                        {\"template\":{\"data\":{\"barpolar\":[{\"marker\":{\"line\":{\"color\":\"white\",\"width\":0.5},\"pattern\":{\"fillmode\":\"overlay\",\"size\":10,\"solidity\":0.2}},\"type\":\"barpolar\"}],\"bar\":[{\"error_x\":{\"color\":\"rgb(36,36,36)\"},\"error_y\":{\"color\":\"rgb(36,36,36)\"},\"marker\":{\"line\":{\"color\":\"white\",\"width\":0.5},\"pattern\":{\"fillmode\":\"overlay\",\"size\":10,\"solidity\":0.2}},\"type\":\"bar\"}],\"carpet\":[{\"aaxis\":{\"endlinecolor\":\"rgb(36,36,36)\",\"gridcolor\":\"white\",\"linecolor\":\"white\",\"minorgridcolor\":\"white\",\"startlinecolor\":\"rgb(36,36,36)\"},\"baxis\":{\"endlinecolor\":\"rgb(36,36,36)\",\"gridcolor\":\"white\",\"linecolor\":\"white\",\"minorgridcolor\":\"white\",\"startlinecolor\":\"rgb(36,36,36)\"},\"type\":\"carpet\"}],\"choropleth\":[{\"colorbar\":{\"outlinewidth\":1,\"tickcolor\":\"rgb(36,36,36)\",\"ticks\":\"outside\"},\"type\":\"choropleth\"}],\"contourcarpet\":[{\"colorbar\":{\"outlinewidth\":1,\"tickcolor\":\"rgb(36,36,36)\",\"ticks\":\"outside\"},\"type\":\"contourcarpet\"}],\"contour\":[{\"colorbar\":{\"outlinewidth\":1,\"tickcolor\":\"rgb(36,36,36)\",\"ticks\":\"outside\"},\"colorscale\":[[0.0,\"#440154\"],[0.1111111111111111,\"#482878\"],[0.2222222222222222,\"#3e4989\"],[0.3333333333333333,\"#31688e\"],[0.4444444444444444,\"#26828e\"],[0.5555555555555556,\"#1f9e89\"],[0.6666666666666666,\"#35b779\"],[0.7777777777777778,\"#6ece58\"],[0.8888888888888888,\"#b5de2b\"],[1.0,\"#fde725\"]],\"type\":\"contour\"}],\"heatmapgl\":[{\"colorbar\":{\"outlinewidth\":1,\"tickcolor\":\"rgb(36,36,36)\",\"ticks\":\"outside\"},\"colorscale\":[[0.0,\"#440154\"],[0.1111111111111111,\"#482878\"],[0.2222222222222222,\"#3e4989\"],[0.3333333333333333,\"#31688e\"],[0.4444444444444444,\"#26828e\"],[0.5555555555555556,\"#1f9e89\"],[0.6666666666666666,\"#35b779\"],[0.7777777777777778,\"#6ece58\"],[0.8888888888888888,\"#b5de2b\"],[1.0,\"#fde725\"]],\"type\":\"heatmapgl\"}],\"heatmap\":[{\"colorbar\":{\"outlinewidth\":1,\"tickcolor\":\"rgb(36,36,36)\",\"ticks\":\"outside\"},\"colorscale\":[[0.0,\"#440154\"],[0.1111111111111111,\"#482878\"],[0.2222222222222222,\"#3e4989\"],[0.3333333333333333,\"#31688e\"],[0.4444444444444444,\"#26828e\"],[0.5555555555555556,\"#1f9e89\"],[0.6666666666666666,\"#35b779\"],[0.7777777777777778,\"#6ece58\"],[0.8888888888888888,\"#b5de2b\"],[1.0,\"#fde725\"]],\"type\":\"heatmap\"}],\"histogram2dcontour\":[{\"colorbar\":{\"outlinewidth\":1,\"tickcolor\":\"rgb(36,36,36)\",\"ticks\":\"outside\"},\"colorscale\":[[0.0,\"#440154\"],[0.1111111111111111,\"#482878\"],[0.2222222222222222,\"#3e4989\"],[0.3333333333333333,\"#31688e\"],[0.4444444444444444,\"#26828e\"],[0.5555555555555556,\"#1f9e89\"],[0.6666666666666666,\"#35b779\"],[0.7777777777777778,\"#6ece58\"],[0.8888888888888888,\"#b5de2b\"],[1.0,\"#fde725\"]],\"type\":\"histogram2dcontour\"}],\"histogram2d\":[{\"colorbar\":{\"outlinewidth\":1,\"tickcolor\":\"rgb(36,36,36)\",\"ticks\":\"outside\"},\"colorscale\":[[0.0,\"#440154\"],[0.1111111111111111,\"#482878\"],[0.2222222222222222,\"#3e4989\"],[0.3333333333333333,\"#31688e\"],[0.4444444444444444,\"#26828e\"],[0.5555555555555556,\"#1f9e89\"],[0.6666666666666666,\"#35b779\"],[0.7777777777777778,\"#6ece58\"],[0.8888888888888888,\"#b5de2b\"],[1.0,\"#fde725\"]],\"type\":\"histogram2d\"}],\"histogram\":[{\"marker\":{\"line\":{\"color\":\"white\",\"width\":0.6}},\"type\":\"histogram\"}],\"mesh3d\":[{\"colorbar\":{\"outlinewidth\":1,\"tickcolor\":\"rgb(36,36,36)\",\"ticks\":\"outside\"},\"type\":\"mesh3d\"}],\"parcoords\":[{\"line\":{\"colorbar\":{\"outlinewidth\":1,\"tickcolor\":\"rgb(36,36,36)\",\"ticks\":\"outside\"}},\"type\":\"parcoords\"}],\"pie\":[{\"automargin\":true,\"type\":\"pie\"}],\"scatter3d\":[{\"line\":{\"colorbar\":{\"outlinewidth\":1,\"tickcolor\":\"rgb(36,36,36)\",\"ticks\":\"outside\"}},\"marker\":{\"colorbar\":{\"outlinewidth\":1,\"tickcolor\":\"rgb(36,36,36)\",\"ticks\":\"outside\"}},\"type\":\"scatter3d\"}],\"scattercarpet\":[{\"marker\":{\"colorbar\":{\"outlinewidth\":1,\"tickcolor\":\"rgb(36,36,36)\",\"ticks\":\"outside\"}},\"type\":\"scattercarpet\"}],\"scattergeo\":[{\"marker\":{\"colorbar\":{\"outlinewidth\":1,\"tickcolor\":\"rgb(36,36,36)\",\"ticks\":\"outside\"}},\"type\":\"scattergeo\"}],\"scattergl\":[{\"marker\":{\"colorbar\":{\"outlinewidth\":1,\"tickcolor\":\"rgb(36,36,36)\",\"ticks\":\"outside\"}},\"type\":\"scattergl\"}],\"scattermapbox\":[{\"marker\":{\"colorbar\":{\"outlinewidth\":1,\"tickcolor\":\"rgb(36,36,36)\",\"ticks\":\"outside\"}},\"type\":\"scattermapbox\"}],\"scatterpolargl\":[{\"marker\":{\"colorbar\":{\"outlinewidth\":1,\"tickcolor\":\"rgb(36,36,36)\",\"ticks\":\"outside\"}},\"type\":\"scatterpolargl\"}],\"scatterpolar\":[{\"marker\":{\"colorbar\":{\"outlinewidth\":1,\"tickcolor\":\"rgb(36,36,36)\",\"ticks\":\"outside\"}},\"type\":\"scatterpolar\"}],\"scatter\":[{\"marker\":{\"colorbar\":{\"outlinewidth\":1,\"tickcolor\":\"rgb(36,36,36)\",\"ticks\":\"outside\"}},\"type\":\"scatter\"}],\"scatterternary\":[{\"marker\":{\"colorbar\":{\"outlinewidth\":1,\"tickcolor\":\"rgb(36,36,36)\",\"ticks\":\"outside\"}},\"type\":\"scatterternary\"}],\"surface\":[{\"colorbar\":{\"outlinewidth\":1,\"tickcolor\":\"rgb(36,36,36)\",\"ticks\":\"outside\"},\"colorscale\":[[0.0,\"#440154\"],[0.1111111111111111,\"#482878\"],[0.2222222222222222,\"#3e4989\"],[0.3333333333333333,\"#31688e\"],[0.4444444444444444,\"#26828e\"],[0.5555555555555556,\"#1f9e89\"],[0.6666666666666666,\"#35b779\"],[0.7777777777777778,\"#6ece58\"],[0.8888888888888888,\"#b5de2b\"],[1.0,\"#fde725\"]],\"type\":\"surface\"}],\"table\":[{\"cells\":{\"fill\":{\"color\":\"rgb(237,237,237)\"},\"line\":{\"color\":\"white\"}},\"header\":{\"fill\":{\"color\":\"rgb(217,217,217)\"},\"line\":{\"color\":\"white\"}},\"type\":\"table\"}]},\"layout\":{\"annotationdefaults\":{\"arrowhead\":0,\"arrowwidth\":1},\"autotypenumbers\":\"strict\",\"coloraxis\":{\"colorbar\":{\"outlinewidth\":1,\"tickcolor\":\"rgb(36,36,36)\",\"ticks\":\"outside\"}},\"colorscale\":{\"diverging\":[[0.0,\"rgb(103,0,31)\"],[0.1,\"rgb(178,24,43)\"],[0.2,\"rgb(214,96,77)\"],[0.3,\"rgb(244,165,130)\"],[0.4,\"rgb(253,219,199)\"],[0.5,\"rgb(247,247,247)\"],[0.6,\"rgb(209,229,240)\"],[0.7,\"rgb(146,197,222)\"],[0.8,\"rgb(67,147,195)\"],[0.9,\"rgb(33,102,172)\"],[1.0,\"rgb(5,48,97)\"]],\"sequential\":[[0.0,\"#440154\"],[0.1111111111111111,\"#482878\"],[0.2222222222222222,\"#3e4989\"],[0.3333333333333333,\"#31688e\"],[0.4444444444444444,\"#26828e\"],[0.5555555555555556,\"#1f9e89\"],[0.6666666666666666,\"#35b779\"],[0.7777777777777778,\"#6ece58\"],[0.8888888888888888,\"#b5de2b\"],[1.0,\"#fde725\"]],\"sequentialminus\":[[0.0,\"#440154\"],[0.1111111111111111,\"#482878\"],[0.2222222222222222,\"#3e4989\"],[0.3333333333333333,\"#31688e\"],[0.4444444444444444,\"#26828e\"],[0.5555555555555556,\"#1f9e89\"],[0.6666666666666666,\"#35b779\"],[0.7777777777777778,\"#6ece58\"],[0.8888888888888888,\"#b5de2b\"],[1.0,\"#fde725\"]]},\"colorway\":[\"#1F77B4\",\"#FF7F0E\",\"#2CA02C\",\"#D62728\",\"#9467BD\",\"#8C564B\",\"#E377C2\",\"#7F7F7F\",\"#BCBD22\",\"#17BECF\"],\"font\":{\"color\":\"rgb(36,36,36)\"},\"geo\":{\"bgcolor\":\"white\",\"lakecolor\":\"white\",\"landcolor\":\"white\",\"showlakes\":true,\"showland\":true,\"subunitcolor\":\"white\"},\"hoverlabel\":{\"align\":\"left\"},\"hovermode\":\"closest\",\"mapbox\":{\"style\":\"light\"},\"paper_bgcolor\":\"white\",\"plot_bgcolor\":\"white\",\"polar\":{\"angularaxis\":{\"gridcolor\":\"rgb(232,232,232)\",\"linecolor\":\"rgb(36,36,36)\",\"showgrid\":false,\"showline\":true,\"ticks\":\"outside\"},\"bgcolor\":\"white\",\"radialaxis\":{\"gridcolor\":\"rgb(232,232,232)\",\"linecolor\":\"rgb(36,36,36)\",\"showgrid\":false,\"showline\":true,\"ticks\":\"outside\"}},\"scene\":{\"xaxis\":{\"backgroundcolor\":\"white\",\"gridcolor\":\"rgb(232,232,232)\",\"gridwidth\":2,\"linecolor\":\"rgb(36,36,36)\",\"showbackground\":true,\"showgrid\":false,\"showline\":true,\"ticks\":\"outside\",\"zeroline\":false,\"zerolinecolor\":\"rgb(36,36,36)\"},\"yaxis\":{\"backgroundcolor\":\"white\",\"gridcolor\":\"rgb(232,232,232)\",\"gridwidth\":2,\"linecolor\":\"rgb(36,36,36)\",\"showbackground\":true,\"showgrid\":false,\"showline\":true,\"ticks\":\"outside\",\"zeroline\":false,\"zerolinecolor\":\"rgb(36,36,36)\"},\"zaxis\":{\"backgroundcolor\":\"white\",\"gridcolor\":\"rgb(232,232,232)\",\"gridwidth\":2,\"linecolor\":\"rgb(36,36,36)\",\"showbackground\":true,\"showgrid\":false,\"showline\":true,\"ticks\":\"outside\",\"zeroline\":false,\"zerolinecolor\":\"rgb(36,36,36)\"}},\"shapedefaults\":{\"fillcolor\":\"black\",\"line\":{\"width\":0},\"opacity\":0.3},\"ternary\":{\"aaxis\":{\"gridcolor\":\"rgb(232,232,232)\",\"linecolor\":\"rgb(36,36,36)\",\"showgrid\":false,\"showline\":true,\"ticks\":\"outside\"},\"baxis\":{\"gridcolor\":\"rgb(232,232,232)\",\"linecolor\":\"rgb(36,36,36)\",\"showgrid\":false,\"showline\":true,\"ticks\":\"outside\"},\"bgcolor\":\"white\",\"caxis\":{\"gridcolor\":\"rgb(232,232,232)\",\"linecolor\":\"rgb(36,36,36)\",\"showgrid\":false,\"showline\":true,\"ticks\":\"outside\"}},\"title\":{\"x\":0.05},\"xaxis\":{\"automargin\":true,\"gridcolor\":\"rgb(232,232,232)\",\"linecolor\":\"rgb(36,36,36)\",\"showgrid\":false,\"showline\":true,\"ticks\":\"outside\",\"title\":{\"standoff\":15},\"zeroline\":false,\"zerolinecolor\":\"rgb(36,36,36)\"},\"yaxis\":{\"automargin\":true,\"gridcolor\":\"rgb(232,232,232)\",\"linecolor\":\"rgb(36,36,36)\",\"showgrid\":false,\"showline\":true,\"ticks\":\"outside\",\"title\":{\"standoff\":15},\"zeroline\":false,\"zerolinecolor\":\"rgb(36,36,36)\"}}},\"xaxis\":{\"anchor\":\"y\",\"domain\":[0.0,1.0],\"title\":{\"text\":\"comp-1\"}},\"yaxis\":{\"anchor\":\"x\",\"domain\":[0.0,1.0],\"title\":{\"text\":\"comp-2\"}},\"legend\":{\"title\":{\"text\":\"y\"},\"tracegroupgap\":0},\"margin\":{\"t\":60}},                        {\"responsive\": true}                    ).then(function(){\n",
       "                            \n",
       "var gd = document.getElementById('d15cc0fd-dc9e-4256-8e64-b45b890548b0');\n",
       "var x = new MutationObserver(function (mutations, observer) {{\n",
       "        var display = window.getComputedStyle(gd).display;\n",
       "        if (!display || display === 'none') {{\n",
       "            console.log([gd, 'removed!']);\n",
       "            Plotly.purge(gd);\n",
       "            observer.disconnect();\n",
       "        }}\n",
       "}});\n",
       "\n",
       "// Listen for the removal of the full notebook cells\n",
       "var notebookContainer = gd.closest('#notebook-container');\n",
       "if (notebookContainer) {{\n",
       "    x.observe(notebookContainer, {childList: true});\n",
       "}}\n",
       "\n",
       "// Listen for the clearing of the current output cell\n",
       "var outputEl = gd.closest('.output');\n",
       "if (outputEl) {{\n",
       "    x.observe(outputEl, {childList: true});\n",
       "}}\n",
       "\n",
       "                        })                };                });            </script>        </div>"
      ]
     },
     "metadata": {},
     "output_type": "display_data"
    }
   ],
   "source": [
    "fig = px.scatter(data, x=\"comp-1\", y=\"comp-2\", color=\"y\", template=\"simple_white\")\n",
    "fig.show()"
   ]
  },
  {
   "cell_type": "markdown",
   "id": "8e45a5c6",
   "metadata": {},
   "source": [
    "### Separation of the database into training and testing"
   ]
  },
  {
   "cell_type": "code",
   "execution_count": 20,
   "id": "208c91f0",
   "metadata": {},
   "outputs": [],
   "source": [
    "X = data.drop(columns=['y'])\n",
    "y = data['y']"
   ]
  },
  {
   "cell_type": "code",
   "execution_count": 21,
   "id": "7efdc01e",
   "metadata": {},
   "outputs": [],
   "source": [
    "# 80% train/20% test\n",
    "X_train, X_test, y_train, y_test = train_test_split(X, y, test_size = 0.2, stratify=y)"
   ]
  },
  {
   "cell_type": "markdown",
   "id": "4d6d2960",
   "metadata": {},
   "source": [
    "# SVM"
   ]
  },
  {
   "cell_type": "markdown",
   "id": "dca471cd",
   "metadata": {},
   "source": [
    "### SVM with linear kernel"
   ]
  },
  {
   "cell_type": "code",
   "execution_count": 22,
   "id": "5b01213f",
   "metadata": {},
   "outputs": [
    {
     "name": "stdout",
     "output_type": "stream",
     "text": [
      "Accuracy: 0.5000\n"
     ]
    }
   ],
   "source": [
    "model_svm_linear=SVC(kernel='linear') \n",
    "\n",
    "model_svm_linear.fit(X_train,y_train)\n",
    "\n",
    "y_pred=model_svm_linear.predict(X_test)\n",
    "\n",
    "print('Accuracy: {0:0.4f}'. format(accuracy_score(y_test, y_pred)))"
   ]
  },
  {
   "cell_type": "code",
   "execution_count": 23,
   "id": "d953caee",
   "metadata": {},
   "outputs": [],
   "source": [
    "file = open('model_svm_linear', 'wb')\n",
    "pickle.dump(model_svm_linear, file)"
   ]
  },
  {
   "cell_type": "markdown",
   "id": "a8280806",
   "metadata": {},
   "source": [
    "### SVM with polinomial kernel"
   ]
  },
  {
   "cell_type": "code",
   "execution_count": 24,
   "id": "8aecf61b",
   "metadata": {},
   "outputs": [
    {
     "name": "stdout",
     "output_type": "stream",
     "text": [
      "Accuracy: 0.6250\n"
     ]
    }
   ],
   "source": [
    "model_svm_poly=SVC(kernel='poly') \n",
    "\n",
    "model_svm_poly.fit(X_train,y_train)\n",
    "\n",
    "y_pred=model_svm_poly.predict(X_test)\n",
    "\n",
    "print('Accuracy: {0:0.4f}'. format(accuracy_score(y_test, y_pred)))"
   ]
  },
  {
   "cell_type": "code",
   "execution_count": 25,
   "id": "ec88f896",
   "metadata": {},
   "outputs": [],
   "source": [
    "file = open('model_svm_poly', 'wb')\n",
    "pickle.dump(model_svm_poly, file)"
   ]
  },
  {
   "cell_type": "markdown",
   "id": "739bc46a",
   "metadata": {},
   "source": [
    "### SVM with rbf kernel"
   ]
  },
  {
   "cell_type": "code",
   "execution_count": 26,
   "id": "8ecb30bb",
   "metadata": {},
   "outputs": [
    {
     "name": "stdout",
     "output_type": "stream",
     "text": [
      "Accuracy: 0.8750\n"
     ]
    }
   ],
   "source": [
    "model_svm_rbf=SVC(kernel='rbf') \n",
    "\n",
    "model_svm_rbf.fit(X_train,y_train)\n",
    "\n",
    "y_pred=model_svm_rbf.predict(X_test)\n",
    "\n",
    "print('Accuracy: {0:0.4f}'. format(accuracy_score(y_test, y_pred)))"
   ]
  },
  {
   "cell_type": "code",
   "execution_count": 27,
   "id": "7b31bc62",
   "metadata": {},
   "outputs": [],
   "source": [
    "file = open('model_svm_rbf', 'wb')\n",
    "pickle.dump(model_svm_rbf, file)"
   ]
  },
  {
   "cell_type": "markdown",
   "id": "41a28532",
   "metadata": {},
   "source": [
    "### SVM with sigmoidal kernel"
   ]
  },
  {
   "cell_type": "code",
   "execution_count": 28,
   "id": "affd34bb",
   "metadata": {},
   "outputs": [
    {
     "name": "stdout",
     "output_type": "stream",
     "text": [
      "Accuracy: 0.5000\n"
     ]
    }
   ],
   "source": [
    "model_svm_sigmoid=SVC(kernel='sigmoid',  C=2, degree=3, gamma=0.1) \n",
    "\n",
    "model_svm_sigmoid.fit(X_train,y_train)\n",
    "\n",
    "y_pred=model_svm_sigmoid.predict(X_test)\n",
    "\n",
    "print('Accuracy: {0:0.4f}'. format(accuracy_score(y_test, y_pred)))"
   ]
  },
  {
   "cell_type": "code",
   "execution_count": 29,
   "id": "b4bad320",
   "metadata": {},
   "outputs": [],
   "source": [
    "file = open('model_svm_sigmoid', 'wb')\n",
    "pickle.dump(model_svm_sigmoid, file)"
   ]
  },
  {
   "cell_type": "markdown",
   "id": "327a630c",
   "metadata": {},
   "source": [
    "# Random Forest"
   ]
  },
  {
   "cell_type": "code",
   "execution_count": 30,
   "id": "27f5c5ce",
   "metadata": {},
   "outputs": [],
   "source": [
    "# Seed para reprodução de resultados\n",
    "seed = 1\n",
    "random.seed(seed)\n",
    "np.random.seed(seed)"
   ]
  },
  {
   "cell_type": "code",
   "execution_count": 39,
   "id": "99209b8a",
   "metadata": {},
   "outputs": [],
   "source": [
    "def train(X_train, y_train, seed):\n",
    "  model = RandomForestClassifier(criterion=\"entropy\", min_samples_leaf=5, random_state=seed) \n",
    "  model.fit(X_train, y_train);\n",
    "  return model\n",
    "\n",
    "model = train(X_train, y_train, seed)"
   ]
  },
  {
   "cell_type": "code",
   "execution_count": 40,
   "id": "9d88911a",
   "metadata": {},
   "outputs": [],
   "source": [
    "y_pred = model.predict(X_test)"
   ]
  },
  {
   "cell_type": "code",
   "execution_count": 41,
   "id": "b5a54f18",
   "metadata": {},
   "outputs": [
    {
     "name": "stdout",
     "output_type": "stream",
     "text": [
      "Accuracy:  0.625\n"
     ]
    }
   ],
   "source": [
    "accuracy = accuracy_score(y_test, y_pred)\n",
    "print('Accuracy: ', accuracy)"
   ]
  },
  {
   "cell_type": "code",
   "execution_count": 42,
   "id": "7d6edb86",
   "metadata": {},
   "outputs": [],
   "source": [
    "file = open(' model', 'wb')\n",
    "pickle.dump( model, file)"
   ]
  }
 ],
 "metadata": {
  "kernelspec": {
   "display_name": "Python 3 (ipykernel)",
   "language": "python",
   "name": "python3"
  },
  "language_info": {
   "codemirror_mode": {
    "name": "ipython",
    "version": 3
   },
   "file_extension": ".py",
   "mimetype": "text/x-python",
   "name": "python",
   "nbconvert_exporter": "python",
   "pygments_lexer": "ipython3",
   "version": "3.9.12"
  }
 },
 "nbformat": 4,
 "nbformat_minor": 5
}
